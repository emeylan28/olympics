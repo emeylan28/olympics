{
 "cells": [
  {
   "cell_type": "markdown",
   "id": "2d0dbd1d",
   "metadata": {},
   "source": [
    "## Research question 5 : What are the most up-to-date results from the Olympic games to inform decision-making in regard to sports activities?"
   ]
  },
  {
   "cell_type": "markdown",
   "id": "5419d754",
   "metadata": {},
   "source": [
    "Download the medal_results_final.csv database from GitHub repo\n",
    "Run each line of code below"
   ]
  },
  {
   "cell_type": "markdown",
   "id": "6ad4ea66",
   "metadata": {},
   "source": [
    "### Import libraries and read the sql database"
   ]
  },
  {
   "cell_type": "code",
   "execution_count": 1,
   "id": "47818fc5",
   "metadata": {},
   "outputs": [],
   "source": [
    "import pandas as pd\n",
    "import seaborn as sns\n",
    "import matplotlib.pyplot as plt\n",
    "import numpy as np\n",
    "\n",
    "\n",
    "df = pd.read_csv(\"medal_results_final.csv\")"
   ]
  },
  {
   "cell_type": "code",
   "execution_count": 2,
   "id": "de50fc48",
   "metadata": {},
   "outputs": [],
   "source": [
    "# set gold silver bronze palette for seaborn graphs\n",
    "\n",
    "gsb_palette = ['#d4af37','#c0c0c0', '#cd7f32']\n",
    "sns.set_palette(gsb_palette)\n"
   ]
  },
  {
   "cell_type": "markdown",
   "id": "05102c46",
   "metadata": {},
   "source": [
    "### Check the data imported properly"
   ]
  },
  {
   "cell_type": "code",
   "execution_count": 3,
   "id": "7c20abc3",
   "metadata": {},
   "outputs": [
    {
     "data": {
      "text/html": [
       "<div>\n",
       "<style scoped>\n",
       "    .dataframe tbody tr th:only-of-type {\n",
       "        vertical-align: middle;\n",
       "    }\n",
       "\n",
       "    .dataframe tbody tr th {\n",
       "        vertical-align: top;\n",
       "    }\n",
       "\n",
       "    .dataframe thead th {\n",
       "        text-align: right;\n",
       "    }\n",
       "</style>\n",
       "<table border=\"1\" class=\"dataframe\">\n",
       "  <thead>\n",
       "    <tr style=\"text-align: right;\">\n",
       "      <th></th>\n",
       "      <th>id</th>\n",
       "      <th>event_date</th>\n",
       "      <th>discipline_name</th>\n",
       "      <th>medal</th>\n",
       "    </tr>\n",
       "  </thead>\n",
       "  <tbody>\n",
       "    <tr>\n",
       "      <th>0</th>\n",
       "      <td>3</td>\n",
       "      <td>27/07/2024</td>\n",
       "      <td>Diving</td>\n",
       "      <td>Bronze</td>\n",
       "    </tr>\n",
       "    <tr>\n",
       "      <th>1</th>\n",
       "      <td>4</td>\n",
       "      <td>27/07/2024</td>\n",
       "      <td>Cycling Road</td>\n",
       "      <td>Silver</td>\n",
       "    </tr>\n",
       "    <tr>\n",
       "      <th>2</th>\n",
       "      <td>5</td>\n",
       "      <td>28/07/2024</td>\n",
       "      <td>Canoe Slalom</td>\n",
       "      <td>Bronze</td>\n",
       "    </tr>\n",
       "    <tr>\n",
       "      <th>3</th>\n",
       "      <td>6</td>\n",
       "      <td>28/07/2024</td>\n",
       "      <td>Swimming</td>\n",
       "      <td>Silver</td>\n",
       "    </tr>\n",
       "    <tr>\n",
       "      <th>4</th>\n",
       "      <td>7</td>\n",
       "      <td>29/07/2024</td>\n",
       "      <td>Diving</td>\n",
       "      <td>Silver</td>\n",
       "    </tr>\n",
       "    <tr>\n",
       "      <th>5</th>\n",
       "      <td>8</td>\n",
       "      <td>29/07/2024</td>\n",
       "      <td>Equestrian</td>\n",
       "      <td>Gold</td>\n",
       "    </tr>\n",
       "    <tr>\n",
       "      <th>6</th>\n",
       "      <td>9</td>\n",
       "      <td>29/07/2024</td>\n",
       "      <td>Cycling Mountain Bike</td>\n",
       "      <td>Gold</td>\n",
       "    </tr>\n",
       "    <tr>\n",
       "      <th>7</th>\n",
       "      <td>10</td>\n",
       "      <td>29/07/2024</td>\n",
       "      <td>Equestrian</td>\n",
       "      <td>Bronze</td>\n",
       "    </tr>\n",
       "    <tr>\n",
       "      <th>8</th>\n",
       "      <td>11</td>\n",
       "      <td>29/07/2024</td>\n",
       "      <td>Canoe Slalom</td>\n",
       "      <td>Silver</td>\n",
       "    </tr>\n",
       "    <tr>\n",
       "      <th>9</th>\n",
       "      <td>12</td>\n",
       "      <td>29/07/2024</td>\n",
       "      <td>Swimming</td>\n",
       "      <td>Silver</td>\n",
       "    </tr>\n",
       "  </tbody>\n",
       "</table>\n",
       "</div>"
      ],
      "text/plain": [
       "   id  event_date        discipline_name   medal\n",
       "0   3  27/07/2024                 Diving  Bronze\n",
       "1   4  27/07/2024           Cycling Road  Silver\n",
       "2   5  28/07/2024           Canoe Slalom  Bronze\n",
       "3   6  28/07/2024               Swimming  Silver\n",
       "4   7  29/07/2024                 Diving  Silver\n",
       "5   8  29/07/2024             Equestrian    Gold\n",
       "6   9  29/07/2024  Cycling Mountain Bike    Gold\n",
       "7  10  29/07/2024             Equestrian  Bronze\n",
       "8  11  29/07/2024           Canoe Slalom  Silver\n",
       "9  12  29/07/2024               Swimming  Silver"
      ]
     },
     "execution_count": 3,
     "metadata": {},
     "output_type": "execute_result"
    }
   ],
   "source": [
    "df.head(10)\n"
   ]
  },
  {
   "cell_type": "code",
   "execution_count": 5,
   "id": "0131a661",
   "metadata": {},
   "outputs": [
    {
     "data": {
      "text/plain": [
       "<bound method DataFrame.info of     id  event_date discipline_name   medal\n",
       "0    3  27/07/2024          Diving  Bronze\n",
       "1    4  27/07/2024    Cycling Road  Silver\n",
       "2    5  28/07/2024    Canoe Slalom  Bronze\n",
       "3    6  28/07/2024        Swimming  Silver\n",
       "4    7  29/07/2024          Diving  Silver\n",
       "..  ..         ...             ...     ...\n",
       "60  63  11/08/2024   Cycling Track  Bronze\n",
       "61  64  06/08/2024          Boxing  Bronze\n",
       "62  65  07/08/2024   Cycling Track  Bronze\n",
       "63  66  09/08/2024       Athletics  Silver\n",
       "64  67  09/08/2024   Cycling Track  Bronze\n",
       "\n",
       "[65 rows x 4 columns]>"
      ]
     },
     "execution_count": 5,
     "metadata": {},
     "output_type": "execute_result"
    }
   ],
   "source": [
    "df.info"
   ]
  },
  {
   "cell_type": "markdown",
   "id": "1001e441",
   "metadata": {},
   "source": [
    "### How many medals did TeamGB win in 2024? \n"
   ]
  },
  {
   "cell_type": "code",
   "execution_count": 8,
   "id": "e4c08afd",
   "metadata": {},
   "outputs": [
    {
     "data": {
      "text/plain": [
       "Text(0.5, 0, '')"
      ]
     },
     "execution_count": 8,
     "metadata": {},
     "output_type": "execute_result"
    },
    {
     "data": {
      "image/png": "[encoded data removed]",
      "text/plain": [
       "<Figure size 640x480 with 1 Axes>"
      ]
     },
     "metadata": {},
     "output_type": "display_data"
    }
   ],
   "source": [
    "bgs_palette = ['#cd7f32', '#d4af37','#c0c0c0' ]\n",
    "#abs_values = df['medal'].value_counts(ascending=False).values\n",
    "\n",
    "ax= sns.countplot(df, x = 'medal', order = ('Bronze', 'Gold', 'Silver'), hue_order = ('Bronze', 'Gold', 'Silver'), palette = bgs_palette, dodge = False )   \n",
    "ax.bar_label(container=ax.containers[0],label_type = 'edge')\n",
    "\n",
    "plt.title(\"Olympic Medals won by TeamGB in 2024\")\n",
    "plt.ylabel(\"Number of Medals\")\n",
    "plt.xlabel(\"\")\n"
   ]
  },
  {
   "cell_type": "markdown",
   "id": "0e09856d",
   "metadata": {},
   "source": [
    "### Which 14 sports won a gold medal in 2024?\n"
   ]
  },
  {
   "cell_type": "code",
   "execution_count": 11,
   "id": "03d0bc32",
   "metadata": {},
   "outputs": [
    {
     "name": "stdout",
     "output_type": "stream",
     "text": [
      "['Equestrian' 'Cycling Mountain Bike' 'Triathlon' 'Shooting' 'Swimming'\n",
      " 'Rowing' 'Trampoline Gymnastics' 'Cycling Track' 'Athletics' 'Sailing'\n",
      " 'Sport Climbing']\n"
     ]
    }
   ],
   "source": [
    "#rename column to sport\n",
    "df = df.rename(columns = {\"discipline_name\": \"sport\"})\n",
    "#subset to gold medals only\n",
    "g_sports = df[df['medal']=='Gold']\n",
    "#print sports names with gold medals\n",
    "g_sports = g_sports['sport'].unique()\n",
    "print(g_sports)\n",
    "\n",
    "\n",
    "\n"
   ]
  },
  {
   "cell_type": "markdown",
   "id": "1ecc228c",
   "metadata": {},
   "source": [
    "## Which sport won the most number of medals?"
   ]
  },
  {
   "cell_type": "code",
   "execution_count": 17,
   "id": "e09b6542",
   "metadata": {},
   "outputs": [
    {
     "data": {
      "text/html": [
       "<div>\n",
       "<style scoped>\n",
       "    .dataframe tbody tr th:only-of-type {\n",
       "        vertical-align: middle;\n",
       "    }\n",
       "\n",
       "    .dataframe tbody tr th {\n",
       "        vertical-align: top;\n",
       "    }\n",
       "\n",
       "    .dataframe thead th {\n",
       "        text-align: right;\n",
       "    }\n",
       "</style>\n",
       "<table border=\"1\" class=\"dataframe\">\n",
       "  <thead>\n",
       "    <tr style=\"text-align: right;\">\n",
       "      <th></th>\n",
       "      <th>sport</th>\n",
       "      <th>count</th>\n",
       "    </tr>\n",
       "  </thead>\n",
       "  <tbody>\n",
       "    <tr>\n",
       "      <th>2</th>\n",
       "      <td>Athletics</td>\n",
       "      <td>10</td>\n",
       "    </tr>\n",
       "    <tr>\n",
       "      <th>8</th>\n",
       "      <td>Cycling Track</td>\n",
       "      <td>8</td>\n",
       "    </tr>\n",
       "    <tr>\n",
       "      <th>12</th>\n",
       "      <td>Rowing</td>\n",
       "      <td>8</td>\n",
       "    </tr>\n",
       "    <tr>\n",
       "      <th>17</th>\n",
       "      <td>Swimming</td>\n",
       "      <td>5</td>\n",
       "    </tr>\n",
       "    <tr>\n",
       "      <th>9</th>\n",
       "      <td>Diving</td>\n",
       "      <td>5</td>\n",
       "    </tr>\n",
       "    <tr>\n",
       "      <th>10</th>\n",
       "      <td>Equestrian</td>\n",
       "      <td>5</td>\n",
       "    </tr>\n",
       "    <tr>\n",
       "      <th>4</th>\n",
       "      <td>Canoe Slalom</td>\n",
       "      <td>4</td>\n",
       "    </tr>\n",
       "    <tr>\n",
       "      <th>20</th>\n",
       "      <td>Triathlon</td>\n",
       "      <td>3</td>\n",
       "    </tr>\n",
       "    <tr>\n",
       "      <th>0</th>\n",
       "      <td>Artistic Gymnastics</td>\n",
       "      <td>2</td>\n",
       "    </tr>\n",
       "    <tr>\n",
       "      <th>13</th>\n",
       "      <td>Sailing</td>\n",
       "      <td>2</td>\n",
       "    </tr>\n",
       "    <tr>\n",
       "      <th>14</th>\n",
       "      <td>Shooting</td>\n",
       "      <td>2</td>\n",
       "    </tr>\n",
       "    <tr>\n",
       "      <th>15</th>\n",
       "      <td>Skateboarding</td>\n",
       "      <td>1</td>\n",
       "    </tr>\n",
       "    <tr>\n",
       "      <th>19</th>\n",
       "      <td>Trampoline Gymnastics</td>\n",
       "      <td>1</td>\n",
       "    </tr>\n",
       "    <tr>\n",
       "      <th>18</th>\n",
       "      <td>Taekwondo</td>\n",
       "      <td>1</td>\n",
       "    </tr>\n",
       "    <tr>\n",
       "      <th>16</th>\n",
       "      <td>Sport Climbing</td>\n",
       "      <td>1</td>\n",
       "    </tr>\n",
       "    <tr>\n",
       "      <th>11</th>\n",
       "      <td>Golf</td>\n",
       "      <td>1</td>\n",
       "    </tr>\n",
       "    <tr>\n",
       "      <th>1</th>\n",
       "      <td>Artistic Swimming</td>\n",
       "      <td>1</td>\n",
       "    </tr>\n",
       "    <tr>\n",
       "      <th>7</th>\n",
       "      <td>Cycling Road</td>\n",
       "      <td>1</td>\n",
       "    </tr>\n",
       "    <tr>\n",
       "      <th>6</th>\n",
       "      <td>Cycling Mountain Bike</td>\n",
       "      <td>1</td>\n",
       "    </tr>\n",
       "    <tr>\n",
       "      <th>5</th>\n",
       "      <td>Cycling BMX Freestyle</td>\n",
       "      <td>1</td>\n",
       "    </tr>\n",
       "    <tr>\n",
       "      <th>3</th>\n",
       "      <td>Boxing</td>\n",
       "      <td>1</td>\n",
       "    </tr>\n",
       "    <tr>\n",
       "      <th>21</th>\n",
       "      <td>Weightlifting</td>\n",
       "      <td>1</td>\n",
       "    </tr>\n",
       "  </tbody>\n",
       "</table>\n",
       "</div>"
      ],
      "text/plain": [
       "                    sport  count\n",
       "2               Athletics     10\n",
       "8           Cycling Track      8\n",
       "12                 Rowing      8\n",
       "17               Swimming      5\n",
       "9                  Diving      5\n",
       "10             Equestrian      5\n",
       "4            Canoe Slalom      4\n",
       "20              Triathlon      3\n",
       "0     Artistic Gymnastics      2\n",
       "13                Sailing      2\n",
       "14               Shooting      2\n",
       "15          Skateboarding      1\n",
       "19  Trampoline Gymnastics      1\n",
       "18              Taekwondo      1\n",
       "16         Sport Climbing      1\n",
       "11                   Golf      1\n",
       "1       Artistic Swimming      1\n",
       "7            Cycling Road      1\n",
       "6   Cycling Mountain Bike      1\n",
       "5   Cycling BMX Freestyle      1\n",
       "3                  Boxing      1\n",
       "21          Weightlifting      1"
      ]
     },
     "execution_count": 17,
     "metadata": {},
     "output_type": "execute_result"
    }
   ],
   "source": [
    "df_sport= df.groupby(['sport']).size().reset_index(name='count')\n",
    "df_sport.sort_values('count', ascending=False)"
   ]
  }
 ],
 "metadata": {
  "kernelspec": {
   "display_name": "Python 3 (ipykernel)",
   "language": "python",
   "name": "python3"
  },
  "language_info": {
   "codemirror_mode": {
    "name": "ipython",
    "version": 3
   },
   "file_extension": ".py",
   "mimetype": "text/x-python",
   "name": "python",
   "nbconvert_exporter": "python",
   "pygments_lexer": "ipython3",
   "version": "3.10.9"
  }
 },
 "nbformat": 4,
 "nbformat_minor": 5
}
