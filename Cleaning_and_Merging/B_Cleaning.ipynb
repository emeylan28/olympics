{
 "cells": [
  {
   "cell_type": "markdown",
   "metadata": {
    "id": "7FGWR3vkdIkK"
   },
   "source": [
    "<h1>Data cleaning</h1>\n",
    "<p>We created a list with what needed doing in regards to data cleaning:</p>\n",
    "<ol>\n",
    "  <li>Examine the data to find any problems:\n",
    "    <ul>\n",
    "      <li>Missing data heatmap</li>\n",
    "      <li>Irregular data bar chart</li>\n",
    "    </ul>\n",
    "  </li>\n",
    "  <li>Find missing data and add default values if required</li>\n",
    "  <li>Remove any incomplete columns or rows</li>\n",
    "  <li>Remove any unneccessary data:\n",
    "    <ul>\n",
    "      <li>Uninformative</li>\n",
    "      <li>Repetative</li>\n",
    "      <li>Duplicates</li>\n",
    "    </ul>\n",
    "  </li>\n",
    "  <li>Normalise data types, e.g. strings <-> int</li>\n",
    "  <li>Change casing, remove whitespace</li>\n",
    "  <li>Rename columns if required</li>\n",
    "  <li>Save the data as a new file</li>\n",
    "</ol>\n"
   ]
  },
  {
   "cell_type": "markdown",
   "metadata": {
    "id": "04TEjf9DgBUA"
   },
   "source": [
    "<h3>Before starting on cleaning, we needed to install various packages to be able to access the data and clean it.</h3>"
   ]
  },
  {
   "cell_type": "code",
   "execution_count": 1,
   "metadata": {
    "colab": {
     "base_uri": "https://localhost:8080/"
    },
    "executionInfo": {
     "elapsed": 5088,
     "status": "ok",
     "timestamp": 1724270343320,
     "user": {
      "displayName": "Elly Johnson",
      "userId": "03359519414945055050"
     },
     "user_tz": -60
    },
    "id": "5fXgYr8JgLjr",
    "outputId": "2ecddca4-ab51-42bf-aab7-72206e716e60"
   },
   "outputs": [
    {
     "name": "stdout",
     "output_type": "stream",
     "text": [
      "Defaulting to user installation because normal site-packages is not writeable\n",
      "Requirement already satisfied: seaborn in c:\\users\\elean\\appdata\\local\\packages\\pythonsoftwarefoundation.python.3.12_qbz5n2kfra8p0\\localcache\\local-packages\\python312\\site-packages (0.13.2)\n",
      "Requirement already satisfied: numpy!=1.24.0,>=1.20 in c:\\users\\elean\\appdata\\local\\packages\\pythonsoftwarefoundation.python.3.12_qbz5n2kfra8p0\\localcache\\local-packages\\python312\\site-packages (from seaborn) (2.0.1)\n",
      "Requirement already satisfied: pandas>=1.2 in c:\\users\\elean\\appdata\\local\\packages\\pythonsoftwarefoundation.python.3.12_qbz5n2kfra8p0\\localcache\\local-packages\\python312\\site-packages (from seaborn) (2.2.2)\n",
      "Requirement already satisfied: matplotlib!=3.6.1,>=3.4 in c:\\users\\elean\\appdata\\local\\packages\\pythonsoftwarefoundation.python.3.12_qbz5n2kfra8p0\\localcache\\local-packages\\python312\\site-packages (from seaborn) (3.9.1)\n",
      "Requirement already satisfied: contourpy>=1.0.1 in c:\\users\\elean\\appdata\\local\\packages\\pythonsoftwarefoundation.python.3.12_qbz5n2kfra8p0\\localcache\\local-packages\\python312\\site-packages (from matplotlib!=3.6.1,>=3.4->seaborn) (1.2.1)\n",
      "Requirement already satisfied: cycler>=0.10 in c:\\users\\elean\\appdata\\local\\packages\\pythonsoftwarefoundation.python.3.12_qbz5n2kfra8p0\\localcache\\local-packages\\python312\\site-packages (from matplotlib!=3.6.1,>=3.4->seaborn) (0.12.1)\n",
      "Requirement already satisfied: fonttools>=4.22.0 in c:\\users\\elean\\appdata\\local\\packages\\pythonsoftwarefoundation.python.3.12_qbz5n2kfra8p0\\localcache\\local-packages\\python312\\site-packages (from matplotlib!=3.6.1,>=3.4->seaborn) (4.53.1)\n",
      "Requirement already satisfied: kiwisolver>=1.3.1 in c:\\users\\elean\\appdata\\local\\packages\\pythonsoftwarefoundation.python.3.12_qbz5n2kfra8p0\\localcache\\local-packages\\python312\\site-packages (from matplotlib!=3.6.1,>=3.4->seaborn) (1.4.5)\n",
      "Requirement already satisfied: packaging>=20.0 in c:\\users\\elean\\appdata\\local\\packages\\pythonsoftwarefoundation.python.3.12_qbz5n2kfra8p0\\localcache\\local-packages\\python312\\site-packages (from matplotlib!=3.6.1,>=3.4->seaborn) (24.1)\n",
      "Requirement already satisfied: pillow>=8 in c:\\users\\elean\\appdata\\local\\packages\\pythonsoftwarefoundation.python.3.12_qbz5n2kfra8p0\\localcache\\local-packages\\python312\\site-packages (from matplotlib!=3.6.1,>=3.4->seaborn) (10.4.0)\n",
      "Requirement already satisfied: pyparsing>=2.3.1 in c:\\users\\elean\\appdata\\local\\packages\\pythonsoftwarefoundation.python.3.12_qbz5n2kfra8p0\\localcache\\local-packages\\python312\\site-packages (from matplotlib!=3.6.1,>=3.4->seaborn) (3.1.2)\n",
      "Requirement already satisfied: python-dateutil>=2.7 in c:\\users\\elean\\appdata\\local\\packages\\pythonsoftwarefoundation.python.3.12_qbz5n2kfra8p0\\localcache\\local-packages\\python312\\site-packages (from matplotlib!=3.6.1,>=3.4->seaborn) (2.9.0.post0)\n",
      "Requirement already satisfied: pytz>=2020.1 in c:\\users\\elean\\appdata\\local\\packages\\pythonsoftwarefoundation.python.3.12_qbz5n2kfra8p0\\localcache\\local-packages\\python312\\site-packages (from pandas>=1.2->seaborn) (2024.1)\n",
      "Requirement already satisfied: tzdata>=2022.7 in c:\\users\\elean\\appdata\\local\\packages\\pythonsoftwarefoundation.python.3.12_qbz5n2kfra8p0\\localcache\\local-packages\\python312\\site-packages (from pandas>=1.2->seaborn) (2024.1)\n",
      "Requirement already satisfied: six>=1.5 in c:\\users\\elean\\appdata\\local\\packages\\pythonsoftwarefoundation.python.3.12_qbz5n2kfra8p0\\localcache\\local-packages\\python312\\site-packages (from python-dateutil>=2.7->matplotlib!=3.6.1,>=3.4->seaborn) (1.16.0)\n"
     ]
    }
   ],
   "source": [
    "# Import pandas for loading data and exploration\n",
    "import pandas as pd\n",
    "# Installing the seaborn library from Matplotlib for visualisations\n",
    "!pip install seaborn\n",
    "import matplotlib.pyplot as plt\n",
    "import seaborn as sns\n",
    "import numpy as np"
   ]
  },
  {
   "cell_type": "code",
   "execution_count": 40,
   "metadata": {
    "colab": {
     "base_uri": "https://localhost:8080/"
    },
    "executionInfo": {
     "elapsed": 673,
     "status": "ok",
     "timestamp": 1724270344671,
     "user": {
      "displayName": "Elly Johnson",
      "userId": "03359519414945055050"
     },
     "user_tz": -60
    },
    "id": "7pk53T2Pwben",
    "outputId": "5185d78d-ca48-48e7-d37a-2ee87ce14fb2"
   },
   "outputs": [
    {
     "name": "stderr",
     "output_type": "stream",
     "text": [
      "C:\\Users\\elean\\AppData\\Local\\Temp\\ipykernel_69148\\2667525156.py:3: DtypeWarning: Columns (15) have mixed types. Specify dtype option on import or set low_memory=False.\n",
      "  df_olympics = pd.read_csv(path)\n"
     ]
    }
   ],
   "source": [
    "path = '../final_project/final_combined_olympics_dataset.csv'\n",
    "# Reading the data from the csv file\n",
    "df_olympics = pd.read_csv(path)"
   ]
  },
  {
   "cell_type": "markdown",
   "metadata": {
    "id": "qFHhPCNnemvl"
   },
   "source": [
    "<h2>Step 1</h2>\n",
    "<ul>\n",
    "  <li>Examine the data to find any problems:\n",
    "      <ul>\n",
    "        <li>Missing data heatmap</li>\n",
    "        <li>Irregular data bar chart</li>\n",
    "      </ul>\n",
    "  </li>\n",
    "</ul>\n",
    "<p>We have printed the data's shape, to understand the size of it. We then printed both the head and tail. We discovered that there was no order to the data, so reordered by year, then by NOC - which stands for National Olympic Committee, and is the abbreviation of each country -, followed by sport and finally event. We used both info and describe functions to give us a quick visulisation of the different columns.</p>\n",
    "  "
   ]
  },
  {
   "cell_type": "code",
   "execution_count": 38,
   "metadata": {
    "colab": {
     "base_uri": "https://localhost:8080/"
    },
    "executionInfo": {
     "elapsed": 271,
     "status": "ok",
     "timestamp": 1724270347848,
     "user": {
      "displayName": "Elly Johnson",
      "userId": "03359519414945055050"
     },
     "user_tz": -60
    },
    "id": "3A6ClzhrjAAe",
    "outputId": "567c1fa1-419b-49c5-8c10-bc88a4ddc0f3"
   },
   "outputs": [
    {
     "data": {
      "text/plain": [
       "(87682, 16)"
      ]
     },
     "execution_count": 38,
     "metadata": {},
     "output_type": "execute_result"
    }
   ],
   "source": [
    "# Printing the data shape\n",
    "df_olympics.shape"
   ]
  },
  {
   "cell_type": "code",
   "execution_count": 39,
   "metadata": {
    "colab": {
     "base_uri": "https://localhost:8080/",
     "height": 206
    },
    "executionInfo": {
     "elapsed": 1031,
     "status": "ok",
     "timestamp": 1724270352479,
     "user": {
      "displayName": "Elly Johnson",
      "userId": "03359519414945055050"
     },
     "user_tz": -60
    },
    "id": "4JVGnRAppc0V",
    "outputId": "1106ccc7-6c32-4950-d7b5-80a016ba5a1d"
   },
   "outputs": [
    {
     "data": {
      "text/html": [
       "<div>\n",
       "<style scoped>\n",
       "    .dataframe tbody tr th:only-of-type {\n",
       "        vertical-align: middle;\n",
       "    }\n",
       "\n",
       "    .dataframe tbody tr th {\n",
       "        vertical-align: top;\n",
       "    }\n",
       "\n",
       "    .dataframe thead th {\n",
       "        text-align: right;\n",
       "    }\n",
       "</style>\n",
       "<table border=\"1\" class=\"dataframe\">\n",
       "  <thead>\n",
       "    <tr style=\"text-align: right;\">\n",
       "      <th></th>\n",
       "      <th>ID</th>\n",
       "      <th>Name</th>\n",
       "      <th>Sex</th>\n",
       "      <th>Age</th>\n",
       "      <th>Height</th>\n",
       "      <th>Weight</th>\n",
       "      <th>Team</th>\n",
       "      <th>NOC</th>\n",
       "      <th>Games</th>\n",
       "      <th>Year</th>\n",
       "      <th>Season</th>\n",
       "      <th>City</th>\n",
       "      <th>Sport</th>\n",
       "      <th>Event</th>\n",
       "      <th>Medal</th>\n",
       "      <th>Discipline</th>\n",
       "    </tr>\n",
       "  </thead>\n",
       "  <tbody>\n",
       "    <tr>\n",
       "      <th>0</th>\n",
       "      <td>1.0</td>\n",
       "      <td>A Dijiang</td>\n",
       "      <td>M</td>\n",
       "      <td>24.0</td>\n",
       "      <td>180.0</td>\n",
       "      <td>80.0</td>\n",
       "      <td>China</td>\n",
       "      <td>CHN</td>\n",
       "      <td>1992 Summer</td>\n",
       "      <td>1992</td>\n",
       "      <td>Summer</td>\n",
       "      <td>Barcelona</td>\n",
       "      <td>Basketball</td>\n",
       "      <td>Basketball Men's Basketball</td>\n",
       "      <td>NaN</td>\n",
       "      <td>NaN</td>\n",
       "    </tr>\n",
       "    <tr>\n",
       "      <th>1</th>\n",
       "      <td>2.0</td>\n",
       "      <td>A Lamusi</td>\n",
       "      <td>M</td>\n",
       "      <td>23.0</td>\n",
       "      <td>170.0</td>\n",
       "      <td>60.0</td>\n",
       "      <td>China</td>\n",
       "      <td>CHN</td>\n",
       "      <td>2012 Summer</td>\n",
       "      <td>2012</td>\n",
       "      <td>Summer</td>\n",
       "      <td>London</td>\n",
       "      <td>Judo</td>\n",
       "      <td>Judo Men's Extra-Lightweight</td>\n",
       "      <td>NaN</td>\n",
       "      <td>NaN</td>\n",
       "    </tr>\n",
       "    <tr>\n",
       "      <th>2</th>\n",
       "      <td>3.0</td>\n",
       "      <td>Gunnar Nielsen Aaby</td>\n",
       "      <td>M</td>\n",
       "      <td>24.0</td>\n",
       "      <td>NaN</td>\n",
       "      <td>NaN</td>\n",
       "      <td>Denmark</td>\n",
       "      <td>DEN</td>\n",
       "      <td>1920 Summer</td>\n",
       "      <td>1920</td>\n",
       "      <td>Summer</td>\n",
       "      <td>Antwerpen</td>\n",
       "      <td>Football</td>\n",
       "      <td>Football Men's Football</td>\n",
       "      <td>NaN</td>\n",
       "      <td>NaN</td>\n",
       "    </tr>\n",
       "    <tr>\n",
       "      <th>3</th>\n",
       "      <td>4.0</td>\n",
       "      <td>Edgar Lindenau Aabye</td>\n",
       "      <td>M</td>\n",
       "      <td>34.0</td>\n",
       "      <td>NaN</td>\n",
       "      <td>NaN</td>\n",
       "      <td>Denmark/Sweden</td>\n",
       "      <td>DEN</td>\n",
       "      <td>1900 Summer</td>\n",
       "      <td>1900</td>\n",
       "      <td>Summer</td>\n",
       "      <td>Paris</td>\n",
       "      <td>Tug-Of-War</td>\n",
       "      <td>Tug-Of-War Men's Tug-Of-War</td>\n",
       "      <td>Gold</td>\n",
       "      <td>NaN</td>\n",
       "    </tr>\n",
       "    <tr>\n",
       "      <th>4</th>\n",
       "      <td>5.0</td>\n",
       "      <td>Christine Jacoba Aaftink</td>\n",
       "      <td>F</td>\n",
       "      <td>21.0</td>\n",
       "      <td>185.0</td>\n",
       "      <td>82.0</td>\n",
       "      <td>Netherlands</td>\n",
       "      <td>NED</td>\n",
       "      <td>1988 Winter</td>\n",
       "      <td>1988</td>\n",
       "      <td>Winter</td>\n",
       "      <td>Calgary</td>\n",
       "      <td>Speed Skating</td>\n",
       "      <td>Speed Skating Women's 500 metres</td>\n",
       "      <td>NaN</td>\n",
       "      <td>NaN</td>\n",
       "    </tr>\n",
       "  </tbody>\n",
       "</table>\n",
       "</div>"
      ],
      "text/plain": [
       "    ID                      Name Sex   Age  Height  Weight            Team  \\\n",
       "0  1.0                 A Dijiang   M  24.0   180.0    80.0           China   \n",
       "1  2.0                  A Lamusi   M  23.0   170.0    60.0           China   \n",
       "2  3.0       Gunnar Nielsen Aaby   M  24.0     NaN     NaN         Denmark   \n",
       "3  4.0      Edgar Lindenau Aabye   M  34.0     NaN     NaN  Denmark/Sweden   \n",
       "4  5.0  Christine Jacoba Aaftink   F  21.0   185.0    82.0     Netherlands   \n",
       "\n",
       "   NOC        Games  Year  Season       City          Sport  \\\n",
       "0  CHN  1992 Summer  1992  Summer  Barcelona     Basketball   \n",
       "1  CHN  2012 Summer  2012  Summer     London           Judo   \n",
       "2  DEN  1920 Summer  1920  Summer  Antwerpen       Football   \n",
       "3  DEN  1900 Summer  1900  Summer      Paris     Tug-Of-War   \n",
       "4  NED  1988 Winter  1988  Winter    Calgary  Speed Skating   \n",
       "\n",
       "                              Event Medal Discipline  \n",
       "0       Basketball Men's Basketball   NaN        NaN  \n",
       "1      Judo Men's Extra-Lightweight   NaN        NaN  \n",
       "2           Football Men's Football   NaN        NaN  \n",
       "3       Tug-Of-War Men's Tug-Of-War  Gold        NaN  \n",
       "4  Speed Skating Women's 500 metres   NaN        NaN  "
      ]
     },
     "execution_count": 39,
     "metadata": {},
     "output_type": "execute_result"
    }
   ],
   "source": [
    "# Printing the data head (first 5 rows)\n",
    "df_olympics.head()"
   ]
  },
  {
   "cell_type": "code",
   "execution_count": 6,
   "metadata": {
    "colab": {
     "base_uri": "https://localhost:8080/",
     "height": 206
    },
    "executionInfo": {
     "elapsed": 307,
     "status": "ok",
     "timestamp": 1724270357031,
     "user": {
      "displayName": "Elly Johnson",
      "userId": "03359519414945055050"
     },
     "user_tz": -60
    },
    "id": "1uM8yliaphNJ",
    "outputId": "7b8e1832-9b11-4f6f-c321-55d39057522e"
   },
   "outputs": [
    {
     "data": {
      "text/html": [
       "<div>\n",
       "<style scoped>\n",
       "    .dataframe tbody tr th:only-of-type {\n",
       "        vertical-align: middle;\n",
       "    }\n",
       "\n",
       "    .dataframe tbody tr th {\n",
       "        vertical-align: top;\n",
       "    }\n",
       "\n",
       "    .dataframe thead th {\n",
       "        text-align: right;\n",
       "    }\n",
       "</style>\n",
       "<table border=\"1\" class=\"dataframe\">\n",
       "  <thead>\n",
       "    <tr style=\"text-align: right;\">\n",
       "      <th></th>\n",
       "      <th>ID</th>\n",
       "      <th>Name</th>\n",
       "      <th>Sex</th>\n",
       "      <th>Age</th>\n",
       "      <th>Height</th>\n",
       "      <th>Weight</th>\n",
       "      <th>Team</th>\n",
       "      <th>NOC</th>\n",
       "      <th>Games</th>\n",
       "      <th>Year</th>\n",
       "      <th>Season</th>\n",
       "      <th>City</th>\n",
       "      <th>Sport</th>\n",
       "      <th>Event</th>\n",
       "      <th>Medal</th>\n",
       "      <th>Discipline</th>\n",
       "    </tr>\n",
       "  </thead>\n",
       "  <tbody>\n",
       "    <tr>\n",
       "      <th>87677</th>\n",
       "      <td>NaN</td>\n",
       "      <td>Josef Stalder</td>\n",
       "      <td>M</td>\n",
       "      <td>33.0</td>\n",
       "      <td>NaN</td>\n",
       "      <td>NaN</td>\n",
       "      <td>Switzerland</td>\n",
       "      <td>SUI</td>\n",
       "      <td>1952 Summer</td>\n",
       "      <td>1952</td>\n",
       "      <td>Summer</td>\n",
       "      <td>Helsinki</td>\n",
       "      <td>Gymnastics</td>\n",
       "      <td>Horse Vault, Men</td>\n",
       "      <td>NaN</td>\n",
       "      <td>NaN</td>\n",
       "    </tr>\n",
       "    <tr>\n",
       "      <th>87678</th>\n",
       "      <td>NaN</td>\n",
       "      <td>Josef Stalder</td>\n",
       "      <td>M</td>\n",
       "      <td>33.0</td>\n",
       "      <td>NaN</td>\n",
       "      <td>NaN</td>\n",
       "      <td>Switzerland</td>\n",
       "      <td>SUI</td>\n",
       "      <td>1952 Summer</td>\n",
       "      <td>1952</td>\n",
       "      <td>Summer</td>\n",
       "      <td>Helsinki</td>\n",
       "      <td>Gymnastics</td>\n",
       "      <td>Parallel Bars, Men</td>\n",
       "      <td>Bronze</td>\n",
       "      <td>NaN</td>\n",
       "    </tr>\n",
       "    <tr>\n",
       "      <th>87679</th>\n",
       "      <td>NaN</td>\n",
       "      <td>Josef Stalder</td>\n",
       "      <td>M</td>\n",
       "      <td>33.0</td>\n",
       "      <td>NaN</td>\n",
       "      <td>NaN</td>\n",
       "      <td>Switzerland</td>\n",
       "      <td>SUI</td>\n",
       "      <td>1952 Summer</td>\n",
       "      <td>1952</td>\n",
       "      <td>Summer</td>\n",
       "      <td>Helsinki</td>\n",
       "      <td>Gymnastics</td>\n",
       "      <td>Horizontal Bar, Men</td>\n",
       "      <td>Silver</td>\n",
       "      <td>NaN</td>\n",
       "    </tr>\n",
       "    <tr>\n",
       "      <th>87680</th>\n",
       "      <td>NaN</td>\n",
       "      <td>Josef Stalder</td>\n",
       "      <td>M</td>\n",
       "      <td>33.0</td>\n",
       "      <td>NaN</td>\n",
       "      <td>NaN</td>\n",
       "      <td>Switzerland</td>\n",
       "      <td>SUI</td>\n",
       "      <td>1952 Summer</td>\n",
       "      <td>1952</td>\n",
       "      <td>Summer</td>\n",
       "      <td>Helsinki</td>\n",
       "      <td>Gymnastics</td>\n",
       "      <td>Rings, Men</td>\n",
       "      <td>NaN</td>\n",
       "      <td>NaN</td>\n",
       "    </tr>\n",
       "    <tr>\n",
       "      <th>87681</th>\n",
       "      <td>NaN</td>\n",
       "      <td>Josef Stalder</td>\n",
       "      <td>M</td>\n",
       "      <td>33.0</td>\n",
       "      <td>NaN</td>\n",
       "      <td>NaN</td>\n",
       "      <td>Switzerland</td>\n",
       "      <td>SUI</td>\n",
       "      <td>1952 Summer</td>\n",
       "      <td>1952</td>\n",
       "      <td>Summer</td>\n",
       "      <td>Helsinki</td>\n",
       "      <td>Gymnastics</td>\n",
       "      <td>Pommelled Horse, Men</td>\n",
       "      <td>NaN</td>\n",
       "      <td>NaN</td>\n",
       "    </tr>\n",
       "  </tbody>\n",
       "</table>\n",
       "</div>"
      ],
      "text/plain": [
       "       ID           Name Sex   Age  Height  Weight         Team  NOC  \\\n",
       "87677 NaN  Josef Stalder   M  33.0     NaN     NaN  Switzerland  SUI   \n",
       "87678 NaN  Josef Stalder   M  33.0     NaN     NaN  Switzerland  SUI   \n",
       "87679 NaN  Josef Stalder   M  33.0     NaN     NaN  Switzerland  SUI   \n",
       "87680 NaN  Josef Stalder   M  33.0     NaN     NaN  Switzerland  SUI   \n",
       "87681 NaN  Josef Stalder   M  33.0     NaN     NaN  Switzerland  SUI   \n",
       "\n",
       "             Games  Year  Season      City       Sport                  Event  \\\n",
       "87677  1952 Summer  1952  Summer  Helsinki  Gymnastics       Horse Vault, Men   \n",
       "87678  1952 Summer  1952  Summer  Helsinki  Gymnastics     Parallel Bars, Men   \n",
       "87679  1952 Summer  1952  Summer  Helsinki  Gymnastics    Horizontal Bar, Men   \n",
       "87680  1952 Summer  1952  Summer  Helsinki  Gymnastics             Rings, Men   \n",
       "87681  1952 Summer  1952  Summer  Helsinki  Gymnastics  Pommelled Horse, Men    \n",
       "\n",
       "        Medal Discipline  \n",
       "87677     NaN        NaN  \n",
       "87678  Bronze        NaN  \n",
       "87679  Silver        NaN  \n",
       "87680     NaN        NaN  \n",
       "87681     NaN        NaN  "
      ]
     },
     "execution_count": 6,
     "metadata": {},
     "output_type": "execute_result"
    }
   ],
   "source": [
    "# Printing the data tail (last 5 rows)\n",
    "df_olympics.tail()"
   ]
  },
  {
   "cell_type": "code",
   "execution_count": 7,
   "metadata": {
    "colab": {
     "base_uri": "https://localhost:8080/",
     "height": 700
    },
    "executionInfo": {
     "elapsed": 349,
     "status": "ok",
     "timestamp": 1724270362250,
     "user": {
      "displayName": "Elly Johnson",
      "userId": "03359519414945055050"
     },
     "user_tz": -60
    },
    "id": "G-lSyrP8plec",
    "outputId": "830761bc-8b26-4fe2-ad99-961ee788bb7f"
   },
   "outputs": [
    {
     "name": "stdout",
     "output_type": "stream",
     "text": [
      "<class 'pandas.core.frame.DataFrame'>\n",
      "RangeIndex: 87682 entries, 0 to 87681\n",
      "Data columns (total 16 columns):\n",
      " #   Column      Non-Null Count  Dtype  \n",
      "---  ------      --------------  -----  \n",
      " 0   ID          85120 non-null  float64\n",
      " 1   Name        87682 non-null  object \n",
      " 2   Sex         87682 non-null  object \n",
      " 3   Age         84951 non-null  float64\n",
      " 4   Height      53746 non-null  float64\n",
      " 5   Weight      52899 non-null  float64\n",
      " 6   Team        87682 non-null  object \n",
      " 7   NOC         87682 non-null  object \n",
      " 8   Games       87682 non-null  object \n",
      " 9   Year        87682 non-null  int64  \n",
      " 10  Season      87682 non-null  object \n",
      " 11  City        87682 non-null  object \n",
      " 12  Sport       87682 non-null  object \n",
      " 13  Event       87682 non-null  object \n",
      " 14  Medal       13761 non-null  object \n",
      " 15  Discipline  15121 non-null  object \n",
      "dtypes: float64(4), int64(1), object(11)\n",
      "memory usage: 10.7+ MB\n"
     ]
    },
    {
     "data": {
      "text/html": [
       "<div>\n",
       "<style scoped>\n",
       "    .dataframe tbody tr th:only-of-type {\n",
       "        vertical-align: middle;\n",
       "    }\n",
       "\n",
       "    .dataframe tbody tr th {\n",
       "        vertical-align: top;\n",
       "    }\n",
       "\n",
       "    .dataframe thead th {\n",
       "        text-align: right;\n",
       "    }\n",
       "</style>\n",
       "<table border=\"1\" class=\"dataframe\">\n",
       "  <thead>\n",
       "    <tr style=\"text-align: right;\">\n",
       "      <th></th>\n",
       "      <th>ID</th>\n",
       "      <th>Age</th>\n",
       "      <th>Height</th>\n",
       "      <th>Weight</th>\n",
       "      <th>Year</th>\n",
       "    </tr>\n",
       "  </thead>\n",
       "  <tbody>\n",
       "    <tr>\n",
       "      <th>count</th>\n",
       "      <td>8.512000e+04</td>\n",
       "      <td>84951.000000</td>\n",
       "      <td>53746.000000</td>\n",
       "      <td>52899.000000</td>\n",
       "      <td>87682.000000</td>\n",
       "    </tr>\n",
       "    <tr>\n",
       "      <th>mean</th>\n",
       "      <td>2.606752e+05</td>\n",
       "      <td>25.868430</td>\n",
       "      <td>175.505303</td>\n",
       "      <td>70.900216</td>\n",
       "      <td>1985.214183</td>\n",
       "    </tr>\n",
       "    <tr>\n",
       "      <th>std</th>\n",
       "      <td>5.234924e+05</td>\n",
       "      <td>6.358307</td>\n",
       "      <td>10.384203</td>\n",
       "      <td>14.217489</td>\n",
       "      <td>31.702282</td>\n",
       "    </tr>\n",
       "    <tr>\n",
       "      <th>min</th>\n",
       "      <td>1.000000e+00</td>\n",
       "      <td>11.000000</td>\n",
       "      <td>127.000000</td>\n",
       "      <td>25.000000</td>\n",
       "      <td>1896.000000</td>\n",
       "    </tr>\n",
       "    <tr>\n",
       "      <th>25%</th>\n",
       "      <td>1.123300e+04</td>\n",
       "      <td>22.000000</td>\n",
       "      <td>168.000000</td>\n",
       "      <td>61.000000</td>\n",
       "      <td>1964.000000</td>\n",
       "    </tr>\n",
       "    <tr>\n",
       "      <th>50%</th>\n",
       "      <td>2.195600e+04</td>\n",
       "      <td>25.000000</td>\n",
       "      <td>175.000000</td>\n",
       "      <td>70.000000</td>\n",
       "      <td>1992.000000</td>\n",
       "    </tr>\n",
       "    <tr>\n",
       "      <th>75%</th>\n",
       "      <td>3.270725e+04</td>\n",
       "      <td>29.000000</td>\n",
       "      <td>183.000000</td>\n",
       "      <td>79.000000</td>\n",
       "      <td>2012.000000</td>\n",
       "    </tr>\n",
       "    <tr>\n",
       "      <th>max</th>\n",
       "      <td>1.919333e+06</td>\n",
       "      <td>88.000000</td>\n",
       "      <td>223.000000</td>\n",
       "      <td>214.000000</td>\n",
       "      <td>2022.000000</td>\n",
       "    </tr>\n",
       "  </tbody>\n",
       "</table>\n",
       "</div>"
      ],
      "text/plain": [
       "                 ID           Age        Height        Weight          Year\n",
       "count  8.512000e+04  84951.000000  53746.000000  52899.000000  87682.000000\n",
       "mean   2.606752e+05     25.868430    175.505303     70.900216   1985.214183\n",
       "std    5.234924e+05      6.358307     10.384203     14.217489     31.702282\n",
       "min    1.000000e+00     11.000000    127.000000     25.000000   1896.000000\n",
       "25%    1.123300e+04     22.000000    168.000000     61.000000   1964.000000\n",
       "50%    2.195600e+04     25.000000    175.000000     70.000000   1992.000000\n",
       "75%    3.270725e+04     29.000000    183.000000     79.000000   2012.000000\n",
       "max    1.919333e+06     88.000000    223.000000    214.000000   2022.000000"
      ]
     },
     "execution_count": 7,
     "metadata": {},
     "output_type": "execute_result"
    }
   ],
   "source": [
    "df_olympics.info()\n",
    "# Gives us a quick visualisation of the ID, Age, Height, Weight, Year column\n",
    "df_olympics.describe()"
   ]
  },
  {
   "cell_type": "markdown",
   "metadata": {
    "id": "maKG2F0lRcet"
   },
   "source": [
    "<p>From this analysis of the data in it's current state, we can clearly see that in ID, Age, Height, Weight, Medal and Discipline there are currently NaN values. We will address these later on in the cleaning process.</p>"
   ]
  },
  {
   "cell_type": "code",
   "execution_count": 8,
   "metadata": {
    "colab": {
     "base_uri": "https://localhost:8080/",
     "height": 424
    },
    "executionInfo": {
     "elapsed": 756,
     "status": "ok",
     "timestamp": 1724270366691,
     "user": {
      "displayName": "Elly Johnson",
      "userId": "03359519414945055050"
     },
     "user_tz": -60
    },
    "id": "4ZwHO7brp8kR",
    "outputId": "cce81356-72f2-41d7-c5a2-e4c5eeb64058"
   },
   "outputs": [
    {
     "data": {
      "text/html": [
       "<div>\n",
       "<style scoped>\n",
       "    .dataframe tbody tr th:only-of-type {\n",
       "        vertical-align: middle;\n",
       "    }\n",
       "\n",
       "    .dataframe tbody tr th {\n",
       "        vertical-align: top;\n",
       "    }\n",
       "\n",
       "    .dataframe thead th {\n",
       "        text-align: right;\n",
       "    }\n",
       "</style>\n",
       "<table border=\"1\" class=\"dataframe\">\n",
       "  <thead>\n",
       "    <tr style=\"text-align: right;\">\n",
       "      <th></th>\n",
       "      <th>ID</th>\n",
       "      <th>Name</th>\n",
       "      <th>Sex</th>\n",
       "      <th>Age</th>\n",
       "      <th>Height</th>\n",
       "      <th>Weight</th>\n",
       "      <th>Team</th>\n",
       "      <th>NOC</th>\n",
       "      <th>Games</th>\n",
       "      <th>Year</th>\n",
       "      <th>Season</th>\n",
       "      <th>City</th>\n",
       "      <th>Sport</th>\n",
       "      <th>Event</th>\n",
       "      <th>Medal</th>\n",
       "      <th>Discipline</th>\n",
       "    </tr>\n",
       "  </thead>\n",
       "  <tbody>\n",
       "    <tr>\n",
       "      <th>51139</th>\n",
       "      <td>26280.0</td>\n",
       "      <td>Georges Daviel de la Nzire</td>\n",
       "      <td>M</td>\n",
       "      <td>17.0</td>\n",
       "      <td>NaN</td>\n",
       "      <td>NaN</td>\n",
       "      <td>France</td>\n",
       "      <td>FRA</td>\n",
       "      <td>1896 Summer</td>\n",
       "      <td>1896</td>\n",
       "      <td>Summer</td>\n",
       "      <td>Athina</td>\n",
       "      <td>Athletics</td>\n",
       "      <td>Athletics Men's 800 metres</td>\n",
       "      <td>NaN</td>\n",
       "      <td>NaN</td>\n",
       "    </tr>\n",
       "    <tr>\n",
       "      <th>33940</th>\n",
       "      <td>17492.0</td>\n",
       "      <td>Eugne Henri Callot</td>\n",
       "      <td>M</td>\n",
       "      <td>20.0</td>\n",
       "      <td>NaN</td>\n",
       "      <td>NaN</td>\n",
       "      <td>France</td>\n",
       "      <td>FRA</td>\n",
       "      <td>1896 Summer</td>\n",
       "      <td>1896</td>\n",
       "      <td>Summer</td>\n",
       "      <td>Athina</td>\n",
       "      <td>Fencing</td>\n",
       "      <td>Fencing Men's Foil, Individual</td>\n",
       "      <td>Silver</td>\n",
       "      <td>NaN</td>\n",
       "    </tr>\n",
       "    <tr>\n",
       "      <th>51201</th>\n",
       "      <td>26315.0</td>\n",
       "      <td>Henri de Laborde</td>\n",
       "      <td>M</td>\n",
       "      <td>NaN</td>\n",
       "      <td>NaN</td>\n",
       "      <td>NaN</td>\n",
       "      <td>France</td>\n",
       "      <td>FRA</td>\n",
       "      <td>1896 Summer</td>\n",
       "      <td>1896</td>\n",
       "      <td>Summer</td>\n",
       "      <td>Athina</td>\n",
       "      <td>Fencing</td>\n",
       "      <td>Fencing Men's Foil, Individual</td>\n",
       "      <td>NaN</td>\n",
       "      <td>NaN</td>\n",
       "    </tr>\n",
       "    <tr>\n",
       "      <th>52537</th>\n",
       "      <td>26984.0</td>\n",
       "      <td>J. Defert</td>\n",
       "      <td>M</td>\n",
       "      <td>NaN</td>\n",
       "      <td>NaN</td>\n",
       "      <td>NaN</td>\n",
       "      <td>France</td>\n",
       "      <td>FRA</td>\n",
       "      <td>1896 Summer</td>\n",
       "      <td>1896</td>\n",
       "      <td>Summer</td>\n",
       "      <td>Athina</td>\n",
       "      <td>Tennis</td>\n",
       "      <td>Tennis Men's Singles</td>\n",
       "      <td>NaN</td>\n",
       "      <td>NaN</td>\n",
       "    </tr>\n",
       "    <tr>\n",
       "      <th>63067</th>\n",
       "      <td>32330.0</td>\n",
       "      <td>Launceston Elliot</td>\n",
       "      <td>M</td>\n",
       "      <td>21.0</td>\n",
       "      <td>188.0</td>\n",
       "      <td>102.0</td>\n",
       "      <td>Great Britain</td>\n",
       "      <td>GBR</td>\n",
       "      <td>1896 Summer</td>\n",
       "      <td>1896</td>\n",
       "      <td>Summer</td>\n",
       "      <td>Athina</td>\n",
       "      <td>Athletics</td>\n",
       "      <td>Athletics Men's 100 metres</td>\n",
       "      <td>NaN</td>\n",
       "      <td>NaN</td>\n",
       "    </tr>\n",
       "    <tr>\n",
       "      <th>...</th>\n",
       "      <td>...</td>\n",
       "      <td>...</td>\n",
       "      <td>...</td>\n",
       "      <td>...</td>\n",
       "      <td>...</td>\n",
       "      <td>...</td>\n",
       "      <td>...</td>\n",
       "      <td>...</td>\n",
       "      <td>...</td>\n",
       "      <td>...</td>\n",
       "      <td>...</td>\n",
       "      <td>...</td>\n",
       "      <td>...</td>\n",
       "      <td>...</td>\n",
       "      <td>...</td>\n",
       "      <td>...</td>\n",
       "    </tr>\n",
       "    <tr>\n",
       "      <th>86312</th>\n",
       "      <td>NaN</td>\n",
       "      <td>Alexander Bolshunov</td>\n",
       "      <td>M</td>\n",
       "      <td>25.0</td>\n",
       "      <td>NaN</td>\n",
       "      <td>NaN</td>\n",
       "      <td>Olympic Athletes from Russia</td>\n",
       "      <td>ROC</td>\n",
       "      <td>2022 Winter</td>\n",
       "      <td>2022</td>\n",
       "      <td>Winter</td>\n",
       "      <td>Beijing</td>\n",
       "      <td>Cross-country skiing</td>\n",
       "      <td>Sprint, Men</td>\n",
       "      <td>NaN</td>\n",
       "      <td>NaN</td>\n",
       "    </tr>\n",
       "    <tr>\n",
       "      <th>86317</th>\n",
       "      <td>NaN</td>\n",
       "      <td>Alexander Bolshunov</td>\n",
       "      <td>M</td>\n",
       "      <td>25.0</td>\n",
       "      <td>NaN</td>\n",
       "      <td>NaN</td>\n",
       "      <td>Olympic Athletes from Russia</td>\n",
       "      <td>ROC</td>\n",
       "      <td>2022 Winter</td>\n",
       "      <td>2022</td>\n",
       "      <td>Winter</td>\n",
       "      <td>Beijing</td>\n",
       "      <td>Cross-country skiing</td>\n",
       "      <td>Team Sprint, Men</td>\n",
       "      <td>Bronze</td>\n",
       "      <td>NaN</td>\n",
       "    </tr>\n",
       "    <tr>\n",
       "      <th>86270</th>\n",
       "      <td>NaN</td>\n",
       "      <td>Charlotte Kalla</td>\n",
       "      <td>F</td>\n",
       "      <td>34.0</td>\n",
       "      <td>NaN</td>\n",
       "      <td>NaN</td>\n",
       "      <td>Sweden</td>\n",
       "      <td>SWE</td>\n",
       "      <td>2022 Winter</td>\n",
       "      <td>2022</td>\n",
       "      <td>Winter</td>\n",
       "      <td>Beijing</td>\n",
       "      <td>Cross-country skiing</td>\n",
       "      <td>10 kilometres, Women</td>\n",
       "      <td>NaN</td>\n",
       "      <td>NaN</td>\n",
       "    </tr>\n",
       "    <tr>\n",
       "      <th>86272</th>\n",
       "      <td>NaN</td>\n",
       "      <td>Charlotte Kalla</td>\n",
       "      <td>F</td>\n",
       "      <td>34.0</td>\n",
       "      <td>NaN</td>\n",
       "      <td>NaN</td>\n",
       "      <td>Sweden</td>\n",
       "      <td>SWE</td>\n",
       "      <td>2022 Winter</td>\n",
       "      <td>2022</td>\n",
       "      <td>Winter</td>\n",
       "      <td>Beijing</td>\n",
       "      <td>Cross-country skiing</td>\n",
       "      <td>15 kilometres Skiathlon, Women</td>\n",
       "      <td>NaN</td>\n",
       "      <td>NaN</td>\n",
       "    </tr>\n",
       "    <tr>\n",
       "      <th>86271</th>\n",
       "      <td>NaN</td>\n",
       "      <td>Charlotte Kalla</td>\n",
       "      <td>F</td>\n",
       "      <td>34.0</td>\n",
       "      <td>NaN</td>\n",
       "      <td>NaN</td>\n",
       "      <td>Sweden</td>\n",
       "      <td>SWE</td>\n",
       "      <td>2022 Winter</td>\n",
       "      <td>2022</td>\n",
       "      <td>Winter</td>\n",
       "      <td>Beijing</td>\n",
       "      <td>Cross-country skiing</td>\n",
       "      <td>30 kilometres, Women</td>\n",
       "      <td>NaN</td>\n",
       "      <td>NaN</td>\n",
       "    </tr>\n",
       "  </tbody>\n",
       "</table>\n",
       "<p>87682 rows × 16 columns</p>\n",
       "</div>"
      ],
      "text/plain": [
       "            ID                        Name Sex   Age  Height  Weight  \\\n",
       "51139  26280.0  Georges Daviel de la Nzire   M  17.0     NaN     NaN   \n",
       "33940  17492.0          Eugne Henri Callot   M  20.0     NaN     NaN   \n",
       "51201  26315.0            Henri de Laborde   M   NaN     NaN     NaN   \n",
       "52537  26984.0                   J. Defert   M   NaN     NaN     NaN   \n",
       "63067  32330.0           Launceston Elliot   M  21.0   188.0   102.0   \n",
       "...        ...                         ...  ..   ...     ...     ...   \n",
       "86312      NaN         Alexander Bolshunov   M  25.0     NaN     NaN   \n",
       "86317      NaN         Alexander Bolshunov   M  25.0     NaN     NaN   \n",
       "86270      NaN             Charlotte Kalla   F  34.0     NaN     NaN   \n",
       "86272      NaN             Charlotte Kalla   F  34.0     NaN     NaN   \n",
       "86271      NaN             Charlotte Kalla   F  34.0     NaN     NaN   \n",
       "\n",
       "                               Team  NOC        Games  Year  Season     City  \\\n",
       "51139                        France  FRA  1896 Summer  1896  Summer   Athina   \n",
       "33940                        France  FRA  1896 Summer  1896  Summer   Athina   \n",
       "51201                        France  FRA  1896 Summer  1896  Summer   Athina   \n",
       "52537                        France  FRA  1896 Summer  1896  Summer   Athina   \n",
       "63067                 Great Britain  GBR  1896 Summer  1896  Summer   Athina   \n",
       "...                             ...  ...          ...   ...     ...      ...   \n",
       "86312  Olympic Athletes from Russia  ROC  2022 Winter  2022  Winter  Beijing   \n",
       "86317  Olympic Athletes from Russia  ROC  2022 Winter  2022  Winter  Beijing   \n",
       "86270                        Sweden  SWE  2022 Winter  2022  Winter  Beijing   \n",
       "86272                        Sweden  SWE  2022 Winter  2022  Winter  Beijing   \n",
       "86271                        Sweden  SWE  2022 Winter  2022  Winter  Beijing   \n",
       "\n",
       "                      Sport                           Event   Medal Discipline  \n",
       "51139             Athletics      Athletics Men's 800 metres     NaN        NaN  \n",
       "33940               Fencing  Fencing Men's Foil, Individual  Silver        NaN  \n",
       "51201               Fencing  Fencing Men's Foil, Individual     NaN        NaN  \n",
       "52537                Tennis            Tennis Men's Singles     NaN        NaN  \n",
       "63067             Athletics      Athletics Men's 100 metres     NaN        NaN  \n",
       "...                     ...                             ...     ...        ...  \n",
       "86312  Cross-country skiing                    Sprint, Men      NaN        NaN  \n",
       "86317  Cross-country skiing               Team Sprint, Men   Bronze        NaN  \n",
       "86270  Cross-country skiing           10 kilometres, Women      NaN        NaN  \n",
       "86272  Cross-country skiing  15 kilometres Skiathlon, Women     NaN        NaN  \n",
       "86271  Cross-country skiing           30 kilometres, Women      NaN        NaN  \n",
       "\n",
       "[87682 rows x 16 columns]"
      ]
     },
     "execution_count": 8,
     "metadata": {},
     "output_type": "execute_result"
    }
   ],
   "source": [
    "# Sorting the data so it is ordered by Olympics year (so that we can see all the data for that year), then NOC (alphabetical), then sport (alphabetical), then event (so that each event is together).\n",
    "\n",
    "df_olympics = df_olympics.sort_values(by=['Year', 'NOC', 'Sport', 'Event'])\n",
    "df_olympics"
   ]
  },
  {
   "cell_type": "code",
   "execution_count": 9,
   "metadata": {
    "colab": {
     "base_uri": "https://localhost:8080/",
     "height": 490
    },
    "executionInfo": {
     "elapsed": 2189,
     "status": "ok",
     "timestamp": 1724270370952,
     "user": {
      "displayName": "Elly Johnson",
      "userId": "03359519414945055050"
     },
     "user_tz": -60
    },
    "id": "dEFBTpScqzPW",
    "outputId": "880c852e-5a2e-4d4c-dfa7-cf4f94738924"
   },
   "outputs": [
    {
     "data": {
      "image/png": "[encoded data removed]",
      "text/plain": [
       "<Figure size 640x480 with 1 Axes>"
      ]
     },
     "metadata": {},
     "output_type": "display_data"
    }
   ],
   "source": [
    "# Missing data heatmap - get the visualisation of which data is missing\n",
    "sns.heatmap(df_olympics.isnull(), cbar=False)\n",
    "plt.show()"
   ]
  },
  {
   "cell_type": "markdown",
   "metadata": {
    "id": "kYWTC-LBrXP1"
   },
   "source": [
    "<p>From the heatmap, we can see that there is missing data for 'ID', 'Age', 'Height', 'Weight', 'Medal' and 'Discipline'. We decided to find the median of the age data to replace the NaN values, as the age is useful to our analysis. For 'ID','Height', 'Weight' and 'Discipline' we decided to remove them as these columns had a significant number of NaN values, and also had no relevance to the future analysis. The medal column will be remaining, as we will be looking at this data, but we will replace the missing data with 'None', so that in our analysis it is clear what that value represents.</p>"
   ]
  },
  {
   "cell_type": "code",
   "execution_count": 10,
   "metadata": {
    "colab": {
     "base_uri": "https://localhost:8080/",
     "height": 733
    },
    "executionInfo": {
     "elapsed": 1681,
     "status": "ok",
     "timestamp": 1724270373282,
     "user": {
      "displayName": "Elly Johnson",
      "userId": "03359519414945055050"
     },
     "user_tz": -60
    },
    "id": "UDQwTGPxs6qL",
    "outputId": "1b97d6c9-8656-4934-d56c-7f4d5ac6d173"
   },
   "outputs": [
    {
     "data": {
      "image/png": "[encoded data removed]",
      "text/plain": [
       "<Figure size 2000x600 with 1 Axes>"
      ]
     },
     "metadata": {},
     "output_type": "display_data"
    }
   ],
   "source": [
    "# Irregular Data (Histogram)\n",
    "x = df_olympics['Sport']\n",
    "plt.figure(figsize=(20, 6))\n",
    "plt.hist(x, edgecolor = \"black\")\n",
    "plt.xticks(rotation=90)\n",
    "plt.title(\"Finding irregular data in Sports\")\n",
    "plt.xlabel(\"Sport\")\n",
    "plt.ylabel(\"Frequency\")\n",
    "plt.show()"
   ]
  },
  {
   "cell_type": "markdown",
   "metadata": {
    "id": "lXTd97h1atak"
   },
   "source": [
    "<p>From the histogram above, we can clearly see that there are over 40,000 data entries for Athletics, Fencing, Tennis, Gymnastics, Cycling, Weightligting, Wrestling, Shooting and Swimming. Although initially we thought we might remove the sports with the fewest entries - as we expected these to be the least popular and the oldest that are no longer exhibited at the Olympics - the data shows that these are some of the sports that have been added most recently, therefore are relevant to our analysis.</p>"
   ]
  },
  {
   "cell_type": "code",
   "execution_count": 11,
   "metadata": {
    "colab": {
     "base_uri": "https://localhost:8080/",
     "height": 467
    },
    "executionInfo": {
     "elapsed": 2262,
     "status": "ok",
     "timestamp": 1724269758959,
     "user": {
      "displayName": "Elly Johnson",
      "userId": "03359519414945055050"
     },
     "user_tz": -60
    },
    "id": "oPu--E5SXHKd",
    "outputId": "7166da43-2684-4d56-d27d-c91158183a1f"
   },
   "outputs": [
    {
     "data": {
      "image/png": "[encoded data removed]",
      "text/plain": [
       "<Figure size 3500x800 with 1 Axes>"
      ]
     },
     "metadata": {},
     "output_type": "display_data"
    }
   ],
   "source": [
    "# Irregular Data (Histogram)\n",
    "x = df_olympics['NOC']\n",
    "plt.figure(figsize=(35, 8))\n",
    "plt.hist(x, edgecolor = 'black')\n",
    "plt.xticks(rotation=90)\n",
    "plt.title(\"Finding irregular data in NOC\")\n",
    "plt.xlabel(\"NOC\")\n",
    "plt.ylabel(\"Frequency\")\n",
    "plt.show()"
   ]
  },
  {
   "cell_type": "markdown",
   "metadata": {
    "id": "wqLv_e2CXcEQ"
   },
   "source": [
    "<p>From this histogram, we can clearly see that some NOC have very low numbers. We decided to find out which countries these are, and to decide whether these are relevant to our data analysis"
   ]
  },
  {
   "cell_type": "markdown",
   "metadata": {
    "id": "pHCY2lRzfD6H"
   },
   "source": [
    "<h2>Step 2</h2>\n",
    "<ul>\n",
    "  <li>Find missing data and add default values if required</li>\n",
    "</ul>"
   ]
  },
  {
   "cell_type": "markdown",
   "metadata": {
    "id": "3IkzC51vAIAQ"
   },
   "source": [
    "<p>As shown in the heatmap, the column which has missing data and requires a default value is 'Medal'. For the NaN values in 'Medal' we decided to use 'None' as the value, so that when we are analysing it is very clear that it represents no medal being awarded for that athlete.</p>"
   ]
  },
  {
   "cell_type": "code",
   "execution_count": 12,
   "metadata": {
    "colab": {
     "base_uri": "https://localhost:8080/",
     "height": 206
    },
    "executionInfo": {
     "elapsed": 758,
     "status": "ok",
     "timestamp": 1724270380746,
     "user": {
      "displayName": "Elly Johnson",
      "userId": "03359519414945055050"
     },
     "user_tz": -60
    },
    "id": "XEFeoiaNACSU",
    "outputId": "54dac6d0-722d-4ad0-96f5-9c221445b969"
   },
   "outputs": [
    {
     "data": {
      "text/html": [
       "<div>\n",
       "<style scoped>\n",
       "    .dataframe tbody tr th:only-of-type {\n",
       "        vertical-align: middle;\n",
       "    }\n",
       "\n",
       "    .dataframe tbody tr th {\n",
       "        vertical-align: top;\n",
       "    }\n",
       "\n",
       "    .dataframe thead th {\n",
       "        text-align: right;\n",
       "    }\n",
       "</style>\n",
       "<table border=\"1\" class=\"dataframe\">\n",
       "  <thead>\n",
       "    <tr style=\"text-align: right;\">\n",
       "      <th></th>\n",
       "      <th>ID</th>\n",
       "      <th>Name</th>\n",
       "      <th>Sex</th>\n",
       "      <th>Age</th>\n",
       "      <th>Height</th>\n",
       "      <th>Weight</th>\n",
       "      <th>Team</th>\n",
       "      <th>NOC</th>\n",
       "      <th>Games</th>\n",
       "      <th>Year</th>\n",
       "      <th>Season</th>\n",
       "      <th>City</th>\n",
       "      <th>Sport</th>\n",
       "      <th>Event</th>\n",
       "      <th>Medal</th>\n",
       "      <th>Discipline</th>\n",
       "    </tr>\n",
       "  </thead>\n",
       "  <tbody>\n",
       "    <tr>\n",
       "      <th>51139</th>\n",
       "      <td>26280.0</td>\n",
       "      <td>Georges Daviel de la Nzire</td>\n",
       "      <td>M</td>\n",
       "      <td>17.0</td>\n",
       "      <td>NaN</td>\n",
       "      <td>NaN</td>\n",
       "      <td>France</td>\n",
       "      <td>FRA</td>\n",
       "      <td>1896 Summer</td>\n",
       "      <td>1896</td>\n",
       "      <td>Summer</td>\n",
       "      <td>Athina</td>\n",
       "      <td>Athletics</td>\n",
       "      <td>Athletics Men's 800 metres</td>\n",
       "      <td>None</td>\n",
       "      <td>NaN</td>\n",
       "    </tr>\n",
       "    <tr>\n",
       "      <th>33940</th>\n",
       "      <td>17492.0</td>\n",
       "      <td>Eugne Henri Callot</td>\n",
       "      <td>M</td>\n",
       "      <td>20.0</td>\n",
       "      <td>NaN</td>\n",
       "      <td>NaN</td>\n",
       "      <td>France</td>\n",
       "      <td>FRA</td>\n",
       "      <td>1896 Summer</td>\n",
       "      <td>1896</td>\n",
       "      <td>Summer</td>\n",
       "      <td>Athina</td>\n",
       "      <td>Fencing</td>\n",
       "      <td>Fencing Men's Foil, Individual</td>\n",
       "      <td>Silver</td>\n",
       "      <td>NaN</td>\n",
       "    </tr>\n",
       "    <tr>\n",
       "      <th>51201</th>\n",
       "      <td>26315.0</td>\n",
       "      <td>Henri de Laborde</td>\n",
       "      <td>M</td>\n",
       "      <td>NaN</td>\n",
       "      <td>NaN</td>\n",
       "      <td>NaN</td>\n",
       "      <td>France</td>\n",
       "      <td>FRA</td>\n",
       "      <td>1896 Summer</td>\n",
       "      <td>1896</td>\n",
       "      <td>Summer</td>\n",
       "      <td>Athina</td>\n",
       "      <td>Fencing</td>\n",
       "      <td>Fencing Men's Foil, Individual</td>\n",
       "      <td>None</td>\n",
       "      <td>NaN</td>\n",
       "    </tr>\n",
       "    <tr>\n",
       "      <th>52537</th>\n",
       "      <td>26984.0</td>\n",
       "      <td>J. Defert</td>\n",
       "      <td>M</td>\n",
       "      <td>NaN</td>\n",
       "      <td>NaN</td>\n",
       "      <td>NaN</td>\n",
       "      <td>France</td>\n",
       "      <td>FRA</td>\n",
       "      <td>1896 Summer</td>\n",
       "      <td>1896</td>\n",
       "      <td>Summer</td>\n",
       "      <td>Athina</td>\n",
       "      <td>Tennis</td>\n",
       "      <td>Tennis Men's Singles</td>\n",
       "      <td>None</td>\n",
       "      <td>NaN</td>\n",
       "    </tr>\n",
       "    <tr>\n",
       "      <th>63067</th>\n",
       "      <td>32330.0</td>\n",
       "      <td>Launceston Elliot</td>\n",
       "      <td>M</td>\n",
       "      <td>21.0</td>\n",
       "      <td>188.0</td>\n",
       "      <td>102.0</td>\n",
       "      <td>Great Britain</td>\n",
       "      <td>GBR</td>\n",
       "      <td>1896 Summer</td>\n",
       "      <td>1896</td>\n",
       "      <td>Summer</td>\n",
       "      <td>Athina</td>\n",
       "      <td>Athletics</td>\n",
       "      <td>Athletics Men's 100 metres</td>\n",
       "      <td>None</td>\n",
       "      <td>NaN</td>\n",
       "    </tr>\n",
       "  </tbody>\n",
       "</table>\n",
       "</div>"
      ],
      "text/plain": [
       "            ID                        Name Sex   Age  Height  Weight  \\\n",
       "51139  26280.0  Georges Daviel de la Nzire   M  17.0     NaN     NaN   \n",
       "33940  17492.0          Eugne Henri Callot   M  20.0     NaN     NaN   \n",
       "51201  26315.0            Henri de Laborde   M   NaN     NaN     NaN   \n",
       "52537  26984.0                   J. Defert   M   NaN     NaN     NaN   \n",
       "63067  32330.0           Launceston Elliot   M  21.0   188.0   102.0   \n",
       "\n",
       "                Team  NOC        Games  Year  Season    City      Sport  \\\n",
       "51139         France  FRA  1896 Summer  1896  Summer  Athina  Athletics   \n",
       "33940         France  FRA  1896 Summer  1896  Summer  Athina    Fencing   \n",
       "51201         France  FRA  1896 Summer  1896  Summer  Athina    Fencing   \n",
       "52537         France  FRA  1896 Summer  1896  Summer  Athina     Tennis   \n",
       "63067  Great Britain  GBR  1896 Summer  1896  Summer  Athina  Athletics   \n",
       "\n",
       "                                Event   Medal Discipline  \n",
       "51139      Athletics Men's 800 metres    None        NaN  \n",
       "33940  Fencing Men's Foil, Individual  Silver        NaN  \n",
       "51201  Fencing Men's Foil, Individual    None        NaN  \n",
       "52537            Tennis Men's Singles    None        NaN  \n",
       "63067      Athletics Men's 100 metres    None        NaN  "
      ]
     },
     "execution_count": 12,
     "metadata": {},
     "output_type": "execute_result"
    }
   ],
   "source": [
    "# Add 'None'' string in Medal column where is NaN value\n",
    "df_olympics_cleaned = df_olympics.copy()\n",
    "df_olympics_cleaned.Medal = df_olympics.Medal.fillna('None')\n",
    "df_olympics_cleaned.head(5)"
   ]
  },
  {
   "cell_type": "markdown",
   "metadata": {
    "id": "fCe0rWLHagKX"
   },
   "source": [
    "<p>For the missing data in the 'Ages' column, we decided to add the median value.</p>"
   ]
  },
  {
   "cell_type": "code",
   "execution_count": 13,
   "metadata": {
    "colab": {
     "base_uri": "https://localhost:8080/",
     "height": 206
    },
    "executionInfo": {
     "elapsed": 680,
     "status": "ok",
     "timestamp": 1724270383796,
     "user": {
      "displayName": "Elly Johnson",
      "userId": "03359519414945055050"
     },
     "user_tz": -60
    },
    "id": "2LKYtbtBaYo9",
    "outputId": "2f7df53c-77af-4453-e845-cac285bdf443"
   },
   "outputs": [
    {
     "data": {
      "text/html": [
       "<div>\n",
       "<style scoped>\n",
       "    .dataframe tbody tr th:only-of-type {\n",
       "        vertical-align: middle;\n",
       "    }\n",
       "\n",
       "    .dataframe tbody tr th {\n",
       "        vertical-align: top;\n",
       "    }\n",
       "\n",
       "    .dataframe thead th {\n",
       "        text-align: right;\n",
       "    }\n",
       "</style>\n",
       "<table border=\"1\" class=\"dataframe\">\n",
       "  <thead>\n",
       "    <tr style=\"text-align: right;\">\n",
       "      <th></th>\n",
       "      <th>ID</th>\n",
       "      <th>Name</th>\n",
       "      <th>Sex</th>\n",
       "      <th>Age</th>\n",
       "      <th>Height</th>\n",
       "      <th>Weight</th>\n",
       "      <th>Team</th>\n",
       "      <th>NOC</th>\n",
       "      <th>Games</th>\n",
       "      <th>Year</th>\n",
       "      <th>Season</th>\n",
       "      <th>City</th>\n",
       "      <th>Sport</th>\n",
       "      <th>Event</th>\n",
       "      <th>Medal</th>\n",
       "      <th>Discipline</th>\n",
       "    </tr>\n",
       "  </thead>\n",
       "  <tbody>\n",
       "    <tr>\n",
       "      <th>51139</th>\n",
       "      <td>26280.0</td>\n",
       "      <td>Georges Daviel de la Nzire</td>\n",
       "      <td>M</td>\n",
       "      <td>17.0</td>\n",
       "      <td>NaN</td>\n",
       "      <td>NaN</td>\n",
       "      <td>France</td>\n",
       "      <td>FRA</td>\n",
       "      <td>1896 Summer</td>\n",
       "      <td>1896</td>\n",
       "      <td>Summer</td>\n",
       "      <td>Athina</td>\n",
       "      <td>Athletics</td>\n",
       "      <td>Athletics Men's 800 metres</td>\n",
       "      <td>None</td>\n",
       "      <td>NaN</td>\n",
       "    </tr>\n",
       "    <tr>\n",
       "      <th>33940</th>\n",
       "      <td>17492.0</td>\n",
       "      <td>Eugne Henri Callot</td>\n",
       "      <td>M</td>\n",
       "      <td>20.0</td>\n",
       "      <td>NaN</td>\n",
       "      <td>NaN</td>\n",
       "      <td>France</td>\n",
       "      <td>FRA</td>\n",
       "      <td>1896 Summer</td>\n",
       "      <td>1896</td>\n",
       "      <td>Summer</td>\n",
       "      <td>Athina</td>\n",
       "      <td>Fencing</td>\n",
       "      <td>Fencing Men's Foil, Individual</td>\n",
       "      <td>Silver</td>\n",
       "      <td>NaN</td>\n",
       "    </tr>\n",
       "    <tr>\n",
       "      <th>51201</th>\n",
       "      <td>26315.0</td>\n",
       "      <td>Henri de Laborde</td>\n",
       "      <td>M</td>\n",
       "      <td>25.0</td>\n",
       "      <td>NaN</td>\n",
       "      <td>NaN</td>\n",
       "      <td>France</td>\n",
       "      <td>FRA</td>\n",
       "      <td>1896 Summer</td>\n",
       "      <td>1896</td>\n",
       "      <td>Summer</td>\n",
       "      <td>Athina</td>\n",
       "      <td>Fencing</td>\n",
       "      <td>Fencing Men's Foil, Individual</td>\n",
       "      <td>None</td>\n",
       "      <td>NaN</td>\n",
       "    </tr>\n",
       "    <tr>\n",
       "      <th>52537</th>\n",
       "      <td>26984.0</td>\n",
       "      <td>J. Defert</td>\n",
       "      <td>M</td>\n",
       "      <td>25.0</td>\n",
       "      <td>NaN</td>\n",
       "      <td>NaN</td>\n",
       "      <td>France</td>\n",
       "      <td>FRA</td>\n",
       "      <td>1896 Summer</td>\n",
       "      <td>1896</td>\n",
       "      <td>Summer</td>\n",
       "      <td>Athina</td>\n",
       "      <td>Tennis</td>\n",
       "      <td>Tennis Men's Singles</td>\n",
       "      <td>None</td>\n",
       "      <td>NaN</td>\n",
       "    </tr>\n",
       "    <tr>\n",
       "      <th>63067</th>\n",
       "      <td>32330.0</td>\n",
       "      <td>Launceston Elliot</td>\n",
       "      <td>M</td>\n",
       "      <td>21.0</td>\n",
       "      <td>188.0</td>\n",
       "      <td>102.0</td>\n",
       "      <td>Great Britain</td>\n",
       "      <td>GBR</td>\n",
       "      <td>1896 Summer</td>\n",
       "      <td>1896</td>\n",
       "      <td>Summer</td>\n",
       "      <td>Athina</td>\n",
       "      <td>Athletics</td>\n",
       "      <td>Athletics Men's 100 metres</td>\n",
       "      <td>None</td>\n",
       "      <td>NaN</td>\n",
       "    </tr>\n",
       "  </tbody>\n",
       "</table>\n",
       "</div>"
      ],
      "text/plain": [
       "            ID                        Name Sex   Age  Height  Weight  \\\n",
       "51139  26280.0  Georges Daviel de la Nzire   M  17.0     NaN     NaN   \n",
       "33940  17492.0          Eugne Henri Callot   M  20.0     NaN     NaN   \n",
       "51201  26315.0            Henri de Laborde   M  25.0     NaN     NaN   \n",
       "52537  26984.0                   J. Defert   M  25.0     NaN     NaN   \n",
       "63067  32330.0           Launceston Elliot   M  21.0   188.0   102.0   \n",
       "\n",
       "                Team  NOC        Games  Year  Season    City      Sport  \\\n",
       "51139         France  FRA  1896 Summer  1896  Summer  Athina  Athletics   \n",
       "33940         France  FRA  1896 Summer  1896  Summer  Athina    Fencing   \n",
       "51201         France  FRA  1896 Summer  1896  Summer  Athina    Fencing   \n",
       "52537         France  FRA  1896 Summer  1896  Summer  Athina     Tennis   \n",
       "63067  Great Britain  GBR  1896 Summer  1896  Summer  Athina  Athletics   \n",
       "\n",
       "                                Event   Medal Discipline  \n",
       "51139      Athletics Men's 800 metres    None        NaN  \n",
       "33940  Fencing Men's Foil, Individual  Silver        NaN  \n",
       "51201  Fencing Men's Foil, Individual    None        NaN  \n",
       "52537            Tennis Men's Singles    None        NaN  \n",
       "63067      Athletics Men's 100 metres    None        NaN  "
      ]
     },
     "execution_count": 13,
     "metadata": {},
     "output_type": "execute_result"
    }
   ],
   "source": [
    "median_age = df_olympics_cleaned['Age'].median()\n",
    "df_olympics_cleaned.Age = df_olympics.Age.fillna(median_age)\n",
    "df_olympics_cleaned.head(5)\n"
   ]
  },
  {
   "cell_type": "markdown",
   "metadata": {
    "id": "J0LE0TCyfEFW"
   },
   "source": [
    "<h2>Step 3</h2>\n",
    "<ul>\n",
    "  <li>Remove any incomplete columns or rows</li>\n",
    "</ul>\n",
    "<p>Here we decided to remove the 'Discipline', 'Height', 'Weight' and 'ID' columns, as they have NaN data and is not relevant to the analysis we know we are going to complete.</p>\n",
    "<p>We also looked at the years of each Olympic games, and decided that the years most relevant to our analysis are the post WW2 years. We decided to create three separate datasets, one that has pre-WW2 data, one that has post-WW2 data, and the final one will have all of it. This means that we can easily analysis the data that is modern, without skewing it with historical data, but still have access to the historical data to be able to analyse trends.</p>\n",
    "<p>Initally we had done the dropping of those rows in this section, but quickly discovered it meant repeating the rest of the cleaning 3 times! We then moved the dropping of those rows to the final stage, once the rest of the cleaning was done."
   ]
  },
  {
   "cell_type": "code",
   "execution_count": 14,
   "metadata": {
    "colab": {
     "base_uri": "https://localhost:8080/",
     "height": 206
    },
    "executionInfo": {
     "elapsed": 624,
     "status": "ok",
     "timestamp": 1724270387286,
     "user": {
      "displayName": "Elly Johnson",
      "userId": "03359519414945055050"
     },
     "user_tz": -60
    },
    "id": "_Gc9ZLllxbVX",
    "outputId": "fab05af9-df88-4a95-cc9c-c9b494748e3b"
   },
   "outputs": [
    {
     "data": {
      "text/html": [
       "<div>\n",
       "<style scoped>\n",
       "    .dataframe tbody tr th:only-of-type {\n",
       "        vertical-align: middle;\n",
       "    }\n",
       "\n",
       "    .dataframe tbody tr th {\n",
       "        vertical-align: top;\n",
       "    }\n",
       "\n",
       "    .dataframe thead th {\n",
       "        text-align: right;\n",
       "    }\n",
       "</style>\n",
       "<table border=\"1\" class=\"dataframe\">\n",
       "  <thead>\n",
       "    <tr style=\"text-align: right;\">\n",
       "      <th></th>\n",
       "      <th>Name</th>\n",
       "      <th>Sex</th>\n",
       "      <th>Age</th>\n",
       "      <th>Team</th>\n",
       "      <th>NOC</th>\n",
       "      <th>Games</th>\n",
       "      <th>Year</th>\n",
       "      <th>Season</th>\n",
       "      <th>City</th>\n",
       "      <th>Sport</th>\n",
       "      <th>Event</th>\n",
       "      <th>Medal</th>\n",
       "    </tr>\n",
       "  </thead>\n",
       "  <tbody>\n",
       "    <tr>\n",
       "      <th>51139</th>\n",
       "      <td>Georges Daviel de la Nzire</td>\n",
       "      <td>M</td>\n",
       "      <td>17.0</td>\n",
       "      <td>France</td>\n",
       "      <td>FRA</td>\n",
       "      <td>1896 Summer</td>\n",
       "      <td>1896</td>\n",
       "      <td>Summer</td>\n",
       "      <td>Athina</td>\n",
       "      <td>Athletics</td>\n",
       "      <td>Athletics Men's 800 metres</td>\n",
       "      <td>None</td>\n",
       "    </tr>\n",
       "    <tr>\n",
       "      <th>33940</th>\n",
       "      <td>Eugne Henri Callot</td>\n",
       "      <td>M</td>\n",
       "      <td>20.0</td>\n",
       "      <td>France</td>\n",
       "      <td>FRA</td>\n",
       "      <td>1896 Summer</td>\n",
       "      <td>1896</td>\n",
       "      <td>Summer</td>\n",
       "      <td>Athina</td>\n",
       "      <td>Fencing</td>\n",
       "      <td>Fencing Men's Foil, Individual</td>\n",
       "      <td>Silver</td>\n",
       "    </tr>\n",
       "    <tr>\n",
       "      <th>51201</th>\n",
       "      <td>Henri de Laborde</td>\n",
       "      <td>M</td>\n",
       "      <td>25.0</td>\n",
       "      <td>France</td>\n",
       "      <td>FRA</td>\n",
       "      <td>1896 Summer</td>\n",
       "      <td>1896</td>\n",
       "      <td>Summer</td>\n",
       "      <td>Athina</td>\n",
       "      <td>Fencing</td>\n",
       "      <td>Fencing Men's Foil, Individual</td>\n",
       "      <td>None</td>\n",
       "    </tr>\n",
       "    <tr>\n",
       "      <th>52537</th>\n",
       "      <td>J. Defert</td>\n",
       "      <td>M</td>\n",
       "      <td>25.0</td>\n",
       "      <td>France</td>\n",
       "      <td>FRA</td>\n",
       "      <td>1896 Summer</td>\n",
       "      <td>1896</td>\n",
       "      <td>Summer</td>\n",
       "      <td>Athina</td>\n",
       "      <td>Tennis</td>\n",
       "      <td>Tennis Men's Singles</td>\n",
       "      <td>None</td>\n",
       "    </tr>\n",
       "    <tr>\n",
       "      <th>63067</th>\n",
       "      <td>Launceston Elliot</td>\n",
       "      <td>M</td>\n",
       "      <td>21.0</td>\n",
       "      <td>Great Britain</td>\n",
       "      <td>GBR</td>\n",
       "      <td>1896 Summer</td>\n",
       "      <td>1896</td>\n",
       "      <td>Summer</td>\n",
       "      <td>Athina</td>\n",
       "      <td>Athletics</td>\n",
       "      <td>Athletics Men's 100 metres</td>\n",
       "      <td>None</td>\n",
       "    </tr>\n",
       "  </tbody>\n",
       "</table>\n",
       "</div>"
      ],
      "text/plain": [
       "                             Name Sex   Age           Team  NOC        Games  \\\n",
       "51139  Georges Daviel de la Nzire   M  17.0         France  FRA  1896 Summer   \n",
       "33940          Eugne Henri Callot   M  20.0         France  FRA  1896 Summer   \n",
       "51201            Henri de Laborde   M  25.0         France  FRA  1896 Summer   \n",
       "52537                   J. Defert   M  25.0         France  FRA  1896 Summer   \n",
       "63067           Launceston Elliot   M  21.0  Great Britain  GBR  1896 Summer   \n",
       "\n",
       "       Year  Season    City      Sport                           Event   Medal  \n",
       "51139  1896  Summer  Athina  Athletics      Athletics Men's 800 metres    None  \n",
       "33940  1896  Summer  Athina    Fencing  Fencing Men's Foil, Individual  Silver  \n",
       "51201  1896  Summer  Athina    Fencing  Fencing Men's Foil, Individual    None  \n",
       "52537  1896  Summer  Athina     Tennis            Tennis Men's Singles    None  \n",
       "63067  1896  Summer  Athina  Athletics      Athletics Men's 100 metres    None  "
      ]
     },
     "execution_count": 14,
     "metadata": {},
     "output_type": "execute_result"
    }
   ],
   "source": [
    "# Dropping columns\n",
    "df_olympics_cleaned = df_olympics_cleaned.drop(['Discipline'], axis=1)\n",
    "\n",
    "df_olympics_cleaned = df_olympics_cleaned.drop(['Height'], axis=1)\n",
    "\n",
    "df_olympics_cleaned = df_olympics_cleaned.drop(['Weight'], axis=1)\n",
    "\n",
    "df_olympics_cleaned = df_olympics_cleaned.drop(['ID'], axis=1)\n",
    "df_olympics_cleaned.head(5)"
   ]
  },
  {
   "cell_type": "code",
   "execution_count": 15,
   "metadata": {
    "colab": {
     "base_uri": "https://localhost:8080/"
    },
    "executionInfo": {
     "elapsed": 288,
     "status": "ok",
     "timestamp": 1724270393615,
     "user": {
      "displayName": "Elly Johnson",
      "userId": "03359519414945055050"
     },
     "user_tz": -60
    },
    "id": "M1mTrO1MSvvB",
    "outputId": "e04ba135-593f-473b-97f6-65084544ba12"
   },
   "outputs": [
    {
     "data": {
      "text/plain": [
       "(87682, 12)"
      ]
     },
     "execution_count": 15,
     "metadata": {},
     "output_type": "execute_result"
    }
   ],
   "source": [
    "df_olympics_cleaned.shape"
   ]
  },
  {
   "cell_type": "markdown",
   "metadata": {
    "id": "Ds0iWvmWJzDK"
   },
   "source": [
    "<p>We then redid the heatmap and .info so that we could see the changes visually.</p>"
   ]
  },
  {
   "cell_type": "code",
   "execution_count": 16,
   "metadata": {
    "colab": {
     "base_uri": "https://localhost:8080/",
     "height": 437
    },
    "executionInfo": {
     "elapsed": 2114,
     "status": "ok",
     "timestamp": 1724270397887,
     "user": {
      "displayName": "Elly Johnson",
      "userId": "03359519414945055050"
     },
     "user_tz": -60
    },
    "id": "F4qvDxRFJ7b-",
    "outputId": "3b27f430-d44e-49d1-b827-0a39f399fb59"
   },
   "outputs": [
    {
     "name": "stdout",
     "output_type": "stream",
     "text": [
      "<class 'pandas.core.frame.DataFrame'>\n",
      "Index: 87682 entries, 51139 to 86271\n",
      "Data columns (total 12 columns):\n",
      " #   Column  Non-Null Count  Dtype  \n",
      "---  ------  --------------  -----  \n",
      " 0   Name    87682 non-null  object \n",
      " 1   Sex     87682 non-null  object \n",
      " 2   Age     87682 non-null  float64\n",
      " 3   Team    87682 non-null  object \n",
      " 4   NOC     87682 non-null  object \n",
      " 5   Games   87682 non-null  object \n",
      " 6   Year    87682 non-null  int64  \n",
      " 7   Season  87682 non-null  object \n",
      " 8   City    87682 non-null  object \n",
      " 9   Sport   87682 non-null  object \n",
      " 10  Event   87682 non-null  object \n",
      " 11  Medal   87682 non-null  object \n",
      "dtypes: float64(1), int64(1), object(10)\n",
      "memory usage: 8.7+ MB\n",
      "None\n"
     ]
    },
    {
     "data": {
      "image/png": "[encoded data removed]",
      "text/plain": [
       "<Figure size 640x480 with 1 Axes>"
      ]
     },
     "metadata": {},
     "output_type": "display_data"
    }
   ],
   "source": [
    "print(df_olympics_cleaned.info())\n",
    "# Missing data heatmap - get the visualisation of which data is missing, if any is\n",
    "sns.heatmap(df_olympics_cleaned.isnull(), cbar=False)\n",
    "plt.show()"
   ]
  },
  {
   "cell_type": "markdown",
   "metadata": {},
   "source": [
    "<p>From this we can clearly see there is no missing data.</p>"
   ]
  },
  {
   "cell_type": "markdown",
   "metadata": {
    "id": "PnguHCdnfENn"
   },
   "source": [
    "<h2>Step 4</h2>\n",
    "<ul>\n",
    "  <li>Remove any unneccessary data:\n",
    "    <ul>\n",
    "      <li>Uninformative</li>\n",
    "      <li>Repetative</li>\n",
    "      <li>Duplicates</li>\n",
    "    </ul>\n",
    "  </li>\n",
    "</ul>\n",
    "<p>During the process of cleaning, we discovered that there was a team 'Acturus' (which is the name of a star) with only 1 entry. We realised that the team names don't necessarily correspond with the NOC and country name. From this we decided to see which NOC's had less than 10 entries, to decide whether they were relevant to our analysis.</p>"
   ]
  },
  {
   "cell_type": "code",
   "execution_count": 17,
   "metadata": {
    "colab": {
     "base_uri": "https://localhost:8080/"
    },
    "executionInfo": {
     "elapsed": 280,
     "status": "ok",
     "timestamp": 1724270400041,
     "user": {
      "displayName": "Elly Johnson",
      "userId": "03359519414945055050"
     },
     "user_tz": -60
    },
    "id": "79tXE-rB25eS",
    "outputId": "3a2a9974-3b18-4dd4-dd70-65826225322a"
   },
   "outputs": [
    {
     "name": "stdout",
     "output_type": "stream",
     "text": [
      "     count\n",
      "NOC       \n",
      "CAM      9\n",
      "FSM      9\n",
      "BUR      9\n",
      "TGA      9\n",
      "SOL      9\n",
      "YAR      8\n",
      "NRU      8\n",
      "BDI      8\n",
      "PLW      7\n",
      "DMA      7\n",
      "BRU      7\n",
      "TLS      6\n",
      "LBN      6\n",
      "ROT      6\n",
      "CRT      5\n",
      "WIF      5\n",
      "VNM      4\n",
      "KIR      4\n",
      "RHO      4\n",
      "MHL      4\n",
      "TUV      3\n",
      "NBO      2\n",
      "LES      2\n",
      "SSD      2\n",
      "YMD      1\n"
     ]
    }
   ],
   "source": [
    "noc_counts = df_olympics_cleaned['NOC'].value_counts().to_frame()\n",
    "print(noc_counts[noc_counts['count'] < 10])\n"
   ]
  },
  {
   "cell_type": "markdown",
   "metadata": {
    "id": "r6sjhDF_1Xki"
   },
   "source": [
    "<p>After futher analysis of what the codes represent, we discovered that some were for countries that no longer exist. Although this isn't relevant for our modern data analysis, they could be relevant if we look at historical data.</p>\n",
    "<p>We then decided to add in an extra column for country name. This is because we aren't sure what all the NOC's stand for and the team names aren't always the country names.</p>"
   ]
  },
  {
   "cell_type": "code",
   "execution_count": 18,
   "metadata": {
    "colab": {
     "base_uri": "https://localhost:8080/",
     "height": 206
    },
    "executionInfo": {
     "elapsed": 772,
     "status": "ok",
     "timestamp": 1724270403235,
     "user": {
      "displayName": "Elly Johnson",
      "userId": "03359519414945055050"
     },
     "user_tz": -60
    },
    "id": "Qmxpj30KXCab",
    "outputId": "78f5677c-a05b-4e96-9978-ed3dbc1962a8"
   },
   "outputs": [
    {
     "data": {
      "text/html": [
       "<div>\n",
       "<style scoped>\n",
       "    .dataframe tbody tr th:only-of-type {\n",
       "        vertical-align: middle;\n",
       "    }\n",
       "\n",
       "    .dataframe tbody tr th {\n",
       "        vertical-align: top;\n",
       "    }\n",
       "\n",
       "    .dataframe thead th {\n",
       "        text-align: right;\n",
       "    }\n",
       "</style>\n",
       "<table border=\"1\" class=\"dataframe\">\n",
       "  <thead>\n",
       "    <tr style=\"text-align: right;\">\n",
       "      <th></th>\n",
       "      <th>Name</th>\n",
       "      <th>Sex</th>\n",
       "      <th>Age</th>\n",
       "      <th>Team</th>\n",
       "      <th>Country</th>\n",
       "      <th>NOC</th>\n",
       "      <th>Games</th>\n",
       "      <th>Year</th>\n",
       "      <th>Season</th>\n",
       "      <th>City</th>\n",
       "      <th>Sport</th>\n",
       "      <th>Event</th>\n",
       "      <th>Medal</th>\n",
       "    </tr>\n",
       "  </thead>\n",
       "  <tbody>\n",
       "    <tr>\n",
       "      <th>51139</th>\n",
       "      <td>Georges Daviel de la Nzire</td>\n",
       "      <td>M</td>\n",
       "      <td>17.0</td>\n",
       "      <td>France</td>\n",
       "      <td></td>\n",
       "      <td>FRA</td>\n",
       "      <td>1896 Summer</td>\n",
       "      <td>1896</td>\n",
       "      <td>Summer</td>\n",
       "      <td>Athina</td>\n",
       "      <td>Athletics</td>\n",
       "      <td>Athletics Men's 800 metres</td>\n",
       "      <td>None</td>\n",
       "    </tr>\n",
       "    <tr>\n",
       "      <th>33940</th>\n",
       "      <td>Eugne Henri Callot</td>\n",
       "      <td>M</td>\n",
       "      <td>20.0</td>\n",
       "      <td>France</td>\n",
       "      <td></td>\n",
       "      <td>FRA</td>\n",
       "      <td>1896 Summer</td>\n",
       "      <td>1896</td>\n",
       "      <td>Summer</td>\n",
       "      <td>Athina</td>\n",
       "      <td>Fencing</td>\n",
       "      <td>Fencing Men's Foil, Individual</td>\n",
       "      <td>Silver</td>\n",
       "    </tr>\n",
       "    <tr>\n",
       "      <th>51201</th>\n",
       "      <td>Henri de Laborde</td>\n",
       "      <td>M</td>\n",
       "      <td>25.0</td>\n",
       "      <td>France</td>\n",
       "      <td></td>\n",
       "      <td>FRA</td>\n",
       "      <td>1896 Summer</td>\n",
       "      <td>1896</td>\n",
       "      <td>Summer</td>\n",
       "      <td>Athina</td>\n",
       "      <td>Fencing</td>\n",
       "      <td>Fencing Men's Foil, Individual</td>\n",
       "      <td>None</td>\n",
       "    </tr>\n",
       "    <tr>\n",
       "      <th>52537</th>\n",
       "      <td>J. Defert</td>\n",
       "      <td>M</td>\n",
       "      <td>25.0</td>\n",
       "      <td>France</td>\n",
       "      <td></td>\n",
       "      <td>FRA</td>\n",
       "      <td>1896 Summer</td>\n",
       "      <td>1896</td>\n",
       "      <td>Summer</td>\n",
       "      <td>Athina</td>\n",
       "      <td>Tennis</td>\n",
       "      <td>Tennis Men's Singles</td>\n",
       "      <td>None</td>\n",
       "    </tr>\n",
       "    <tr>\n",
       "      <th>63067</th>\n",
       "      <td>Launceston Elliot</td>\n",
       "      <td>M</td>\n",
       "      <td>21.0</td>\n",
       "      <td>Great Britain</td>\n",
       "      <td></td>\n",
       "      <td>GBR</td>\n",
       "      <td>1896 Summer</td>\n",
       "      <td>1896</td>\n",
       "      <td>Summer</td>\n",
       "      <td>Athina</td>\n",
       "      <td>Athletics</td>\n",
       "      <td>Athletics Men's 100 metres</td>\n",
       "      <td>None</td>\n",
       "    </tr>\n",
       "  </tbody>\n",
       "</table>\n",
       "</div>"
      ],
      "text/plain": [
       "                             Name Sex   Age           Team Country  NOC  \\\n",
       "51139  Georges Daviel de la Nzire   M  17.0         France          FRA   \n",
       "33940          Eugne Henri Callot   M  20.0         France          FRA   \n",
       "51201            Henri de Laborde   M  25.0         France          FRA   \n",
       "52537                   J. Defert   M  25.0         France          FRA   \n",
       "63067           Launceston Elliot   M  21.0  Great Britain          GBR   \n",
       "\n",
       "             Games  Year  Season    City      Sport  \\\n",
       "51139  1896 Summer  1896  Summer  Athina  Athletics   \n",
       "33940  1896 Summer  1896  Summer  Athina    Fencing   \n",
       "51201  1896 Summer  1896  Summer  Athina    Fencing   \n",
       "52537  1896 Summer  1896  Summer  Athina     Tennis   \n",
       "63067  1896 Summer  1896  Summer  Athina  Athletics   \n",
       "\n",
       "                                Event   Medal  \n",
       "51139      Athletics Men's 800 metres    None  \n",
       "33940  Fencing Men's Foil, Individual  Silver  \n",
       "51201  Fencing Men's Foil, Individual    None  \n",
       "52537            Tennis Men's Singles    None  \n",
       "63067      Athletics Men's 100 metres    None  "
      ]
     },
     "execution_count": 18,
     "metadata": {},
     "output_type": "execute_result"
    }
   ],
   "source": [
    "# Adding in an empty column called 'Country'\n",
    "df_olympics_cleaned.insert(4, 'Country', '')\n",
    "df_olympics_cleaned.head()"
   ]
  },
  {
   "cell_type": "code",
   "execution_count": 19,
   "metadata": {
    "executionInfo": {
     "elapsed": 293,
     "status": "ok",
     "timestamp": 1724270404933,
     "user": {
      "displayName": "Elly Johnson",
      "userId": "03359519414945055050"
     },
     "user_tz": -60
    },
    "id": "4MEpm7j_3Mdi"
   },
   "outputs": [],
   "source": [
    "# Creating a function which has each NOC code and their corresponding country.\n",
    "def noc_code_finder(noc):\n",
    "  noc_codes = [{\"code\": \"AFG\", \"country\": \"Afghanistan\"}, {\"code\": \"AHO\", \"country\": \"Netherlands Antilles\"}, {\"code\": \"ALB\", \"country\": \"Albania\"}, {\"code\": \"ALG\", \"country\": \"Algeria\"},\n",
    "              {\"code\": \"AND\", \"country\": \"Andorra\"}, {\"code\": \"ANG\", \"country\": \"Angola\"}, {\"code\": \"ANT\", \"country\": \"Antigua and Barbuda\"}, {\"code\": \"ANZ\", \"country\": \"Australasia\"},\n",
    "              {\"code\": \"ARG\", \"country\": \"Argentina\"}, {\"code\": \"ARM\", \"country\": \"Armenia\"}, {\"code\": \"ARU\", \"country\": \"Aruba\"}, {\"code\": \"ASA\", \"country\": \"American Samoa\"},\n",
    "              {\"code\": \"AUS\", \"country\": \"Australia\"}, {\"code\": \"AUT\", \"country\": \"Austria\"}, {\"code\": \"AZE\", \"country\": \"Azerbaijan\"}, {\"code\": \"BAH\", \"country\": \"Bahamas\"},\n",
    "              {\"code\": \"BAN\", \"country\": \"Bangladesh\"}, {\"code\": \"BAR\", \"country\": \"Barbados\"}, {\"code\": \"BDI\", \"country\": \"Burundi\"}, {\"code\": \"BEL\", \"country\": \"Belgium\"},\n",
    "              {\"code\": \"BEN\", \"country\": \"Benin\"}, {\"code\": \"BER\", \"country\": \"Bermuda\"}, {\"code\": \"BHU\", \"country\": \"Bhutan\"}, {\"code\": \"BIH\", \"country\": \"Bosnia and Herzegovina\"},\n",
    "              {\"code\": \"BIZ\", \"country\": \"Belize\"}, {\"code\": \"BLR\", \"country\": \"Belarus\"}, {\"code\": \"BOH\", \"country\": \"Bohemia\"}, {\"code\": \"BOL\", \"country\": \"Bolivia\"},\n",
    "              {\"code\": \"BOT\", \"country\": \"Botswana\"}, {\"code\": \"BRA\", \"country\": \"Brazil\"}, {\"code\": \"BRN\", \"country\": \"Bahrain\"}, {\"code\": \"BRU\", \"country\": \"Brunei\"},\n",
    "              {\"code\": \"BUL\", \"country\": \"Bulgaria\"}, {\"code\": \"BUR\", \"country\": \"Burkina Faso\"}, {\"code\": \"CAF\", \"country\": \"Central African Republic\"}, {\"code\": \"CAM\", \"country\": \"Cambodia\"},\n",
    "              {\"code\": \"CAN\", \"country\": \"Canada\"}, {\"code\": \"CAY\", \"country\": \"Cayman Islands\"}, {\"code\": \"CGO\", \"country\": \"Republic of the Congo\"}, {\"code\": \"CHA\", \"country\": \"Chad\"},\n",
    "              {\"code\": \"CHI\", \"country\": \"Chile\"}, {\"code\": \"CHN\", \"country\": \"China\"}, {\"code\": \"CIV\", \"country\": \"Ivory Coast\"}, {\"code\": \"CMR\", \"country\": \"Cameroon\"},\n",
    "              {\"code\": \"COD\", \"country\": \"Democratic Republic of the Congo\"}, {\"code\": \"COK\", \"country\": \"Cook Islands\"}, {\"code\": \"COL\", \"country\": \"Colombia\"}, {\"code\": \"COM\", \"country\": \"Comoros\"},\n",
    "              {\"code\": \"CPV\", \"country\": \"Cape Verde\"}, {\"code\": \"CRC\", \"country\": \"Costa Rica\"}, {\"code\": \"CRO\", \"country\": \"Croatia\"}, {\"code\": \"CRT\", \"country\": \"Crete\"}, {\"code\": \"CUB\", \"country\": \"Cuba\"},\n",
    "              {\"code\": \"CYP\", \"country\": \"Cyprus\"}, {\"code\": \"CZE\", \"country\": \"Czechia\"}, {\"code\": \"DEN\", \"country\": \"Denmark\"}, {\"code\": \"DJI\", \"country\": \"Djibouti\"},\n",
    "              {\"code\": \"DMA\", \"country\": \"Dominica\"}, {\"code\": \"DMN\", \"country\": \"Dominica\"}, {\"code\": \"DOM\", \"country\": \"Dominican Republic\"}, {\"code\": \"ECU\", \"country\": \"Ecuador\"},\n",
    "              {\"code\": \"EGY\", \"country\": \"Egypt\"}, {\"code\": \"EOR\", \"country\": \"Refugee Olympic Team\"}, {\"code\": \"ERI\", \"country\": \"Eritrea\"}, {\"code\": \"ESA\", \"country\": \"El Salvador\"},\n",
    "              {\"code\": \"ESP\", \"country\": \"Spain\"}, {\"code\": \"EST\", \"country\": \"Estonia\"}, {\"code\": \"ETH\", \"country\": \"Ethiopia\"}, {\"code\": \"EUN\", \"country\": \"Unified Team\"},\n",
    "              {\"code\": \"FIJ\", \"country\": \"Fiji\"}, {\"code\": \"FIN\", \"country\": \"Finland\"}, {\"code\": \"FRA\", \"country\": \"France\"}, {\"code\": \"FRG\", \"country\": \"West Germany\"},\n",
    "              {\"code\": \"FSM\", \"country\": \"Federated States of Micronesia\"}, {\"code\": \"GAB\", \"country\": \"Gabon\"}, {\"code\": \"GAM\", \"country\": \"The Gambia\"}, {\"code\": \"GBR\", \"country\": \"Great Britain\"},\n",
    "              {\"code\": \"GBS\", \"country\": \"Guinea-Bissau\"}, {\"code\": \"GDR\", \"country\": \"East Germany\"}, {\"code\": \"GEO\", \"country\": \"Georgia\"}, {\"code\": \"GEQ\", \"country\": \"Equatorial Guinea\"},\n",
    "              {\"code\": \"GER\", \"country\": \"Germany\"}, {\"code\": \"GHA\", \"country\": \"Ghana\"}, {\"code\": \"GRE\", \"country\": \"Greece\"}, {\"code\": \"GRN\", \"country\": \"Grenada\"},\n",
    "              {\"code\": \"GUA\", \"country\": \"Guatemala\"}, {\"code\": \"GUI\", \"country\": \"Guinea\"}, {\"code\": \"GUM\", \"country\": \"Guam\"}, {\"code\": \"GUY\", \"country\": \"Guyana\"},\n",
    "              {\"code\": \"HAI\", \"country\": \"Haiti\"}, {\"code\": \"HKG\", \"country\": \"Hong Kong\"}, {\"code\": \"HON\", \"country\": \"Honduras\"}, {\"code\": \"HUN\", \"country\": \"Hungary\"},\n",
    "              {\"code\": \"INA\", \"country\": \"Indonesia\"}, {\"code\": \"IND\", \"country\": \"India\"}, {\"code\": \"IOA\", \"country\": \"Independent Olympic Athletes\"}, {\"code\": \"IRI\", \"country\": \"Iran\"},\n",
    "              {\"code\": \"IRL\", \"country\": \"Ireland\"}, {\"code\": \"IRQ\", \"country\": \"Iraq\"}, {\"code\": \"ISL\", \"country\": \"Iceland\"}, {\"code\": \"ISR\", \"country\": \"Israel\"},\n",
    "              {\"code\": \"ISV\", \"country\": \"Virgin Islands\"}, {\"code\": \"ITA\", \"country\": \"Italy\"}, {\"code\": \"IVB\", \"country\": \"British Virgin Islands\"}, {\"code\": \"JAM\", \"country\": \"Jamaica\"},\n",
    "              {\"code\": \"JOR\", \"country\": \"Jordan\"}, {\"code\": \"JPN\", \"country\": \"Japan\"}, {\"code\": \"KAZ\", \"country\": \"Kazakhstan\"}, {\"code\": \"KEN\", \"country\": \"Kenya\"},\n",
    "              {\"code\": \"KGZ\", \"country\": \"Kyrgyzstan\"}, {\"code\": \"KIR\", \"country\": \"Kiribati\"}, {\"code\": \"KOR\", \"country\": \"South Korea\"}, {\"code\": \"KOS\", \"country\": \"Kosovo\"},\n",
    "              {\"code\": \"KSA\", \"country\": \"Saudi Arabia\"}, {\"code\": \"KUW\", \"country\": \"Kuwait\"}, {\"code\": \"LAO\", \"country\": \"Laos\"}, {\"code\": \"LAT\", \"country\": \"Latvia\"},\n",
    "              {\"code\": \"LBA\", \"country\": \"Libya\"}, {\"code\": \"LBN\", \"country\": \"Lebanon\"}, {\"code\": \"LIB\", \"country\": \"Lebanon\"}, {\"code\": \"LBR\", \"country\": \"Liberia\"},\n",
    "              {\"code\": \"LCA\", \"country\": \"Saint Lucia\"}, {\"code\": \"LES\", \"country\": \"Lesotho\"}, {\"code\": \"LIE\", \"country\": \"Liechtenstein\"}, {\"code\": \"LTU\", \"country\": \"Lithuania\"},\n",
    "              {\"code\": \"LUX\", \"country\": \"Luxembourg\"}, {\"code\": \"MAD\", \"country\": \"Madagascar\"}, {\"code\": \"MAR\", \"country\": \"Morocco\"}, {\"code\": \"MAS\", \"country\": \"Malaysia\"},\n",
    "              {\"code\": \"MAL\", \"country\": \"Malaya\"}, {\"code\": \"MAW\", \"country\": \"Malawi\"}, {\"code\": \"MDA\", \"country\": \"Moldova\"}, {\"code\": \"MDV\", \"country\": \"Maldives\"},\n",
    "              {\"code\": \"MEX\", \"country\": \"Mexico\"}, {\"code\": \"MGL\", \"country\": \"Mongolia\"}, {\"code\": \"MHL\", \"country\": \"Marshall Islands\"}, {\"code\": \"MKD\", \"country\": \"North Macedonia\"},\n",
    "              {\"code\": \"MLI\", \"country\": \"Mali\"}, {\"code\": \"MLT\", \"country\": \"Malta\"}, {\"code\": \"MNE\", \"country\": \"Montenegro\"}, {\"code\": \"MON\", \"country\": \"Monaco\"},\n",
    "              {\"code\": \"MOZ\", \"country\": \"Mozambique\"}, {\"code\": \"MRI\", \"country\": \"Mauritius\"}, {\"code\": \"MTN\", \"country\": \"Mauritania\"}, {\"code\": \"MYA\", \"country\": \"Myanmar\"},\n",
    "              {\"code\": \"NAM\", \"country\": \"Namibia\"}, {\"code\": \"NBO\", \"country\": \"North Borneo\"}, {\"code\": \"NCA\", \"country\": \"Nicaragua\"}, {\"code\": \"NED\", \"country\": \"Netherlands\"},\n",
    "              {\"code\": \"NEP\", \"country\": \"Nepal\"}, {\"code\": \"NGR\", \"country\": \"Nigeria\"}, {\"code\": \"NIG\", \"country\": \"Niger\"}, {\"code\": \"NOR\", \"country\": \"Norway\"},\n",
    "              {\"code\": \"NRU\", \"country\": \"Nauru\"}, {\"code\": \"NZL\", \"country\": \"New Zealand\"}, {\"code\": \"OMA\", \"country\": \"Oman\"}, {\"code\": \"PAK\", \"country\": \"Pakistan\"},\n",
    "              {\"code\": \"PAN\", \"country\": \"Panama\"}, {\"code\": \"PAR\", \"country\": \"Paraguay\"}, {\"code\": \"PER\", \"country\": \"Peru\"}, {\"code\": \"PHI\", \"country\": \"Philippines\"},\n",
    "              {\"code\": \"PLE\", \"country\": \"Palestine\"}, {\"code\": \"PLW\", \"country\": \"Palau\"}, {\"code\": \"PNG\", \"country\": \"Papua New Guinea\"}, {\"code\": \"POL\", \"country\": \"Poland\"},\n",
    "              {\"code\": \"POR\", \"country\": \"Portugal\"}, {\"code\": \"PRK\", \"country\": \"North Korea\"}, {\"code\": \"PUR\", \"country\": \"Puerto Rico\"}, {\"code\": \"QAT\", \"country\": \"Qatar\"},\n",
    "              {\"code\": \"RHO\", \"country\": \"Rhodesia\"}, {\"code\": \"ROC\", \"country\": \"Russian Olympic Committee\"}, {\"code\": \"ROT\", \"country\": \"Refugee Olympic Team\"}, {\"code\": \"ROU\", \"country\": \"Romania\"},\n",
    "              {\"code\": \"RSA\", \"country\": \"South Africa\"}, {\"code\": \"RUS\", \"country\": \"Russia\"}, {\"code\": \"RWA\", \"country\": \"Rwanda\"}, {\"code\": \"SAA\", \"country\": \"Saar\"},\n",
    "              {\"code\": \"SAM\", \"country\": \"Samoa\"}, {\"code\": \"SCG\", \"country\": \"Serbia and Montenegro\"}, {\"code\": \"SEN\", \"country\": \"Senegal\"}, {\"code\": \"SEY\", \"country\": \"Seychelles\"},\n",
    "              {\"code\": \"SGP\", \"country\": \"Singapore\"}, {\"code\": \"SKN\", \"country\": \"Saint Kitts and Nevis\"}, {\"code\": \"SLE\", \"country\": \"Sierra Leone\"}, {\"code\": \"SLO\", \"country\": \"Slovenia\"},\n",
    "              {\"code\": \"SMR\", \"country\": \"San Marino\"}, {\"code\": \"SOL\", \"country\": \"Solomon Islands\"}, {\"code\": \"SOM\", \"country\": \"Somalia\"}, {\"code\": \"SRB\", \"country\": \"Serbia\"},\n",
    "              {\"code\": \"SRI\", \"country\": \"Sri Lanka\"}, {\"code\": \"SSD\", \"country\": \"South Sudan\"}, {\"code\": \"STP\", \"country\": \"São Tomé and Príncipe\"}, {\"code\": \"SUD\", \"country\": \"Sudan\"},\n",
    "              {\"code\": \"SUI\", \"country\": \"Switzerland\"}, {\"code\": \"SUR\", \"country\": \"Suriname\"}, {\"code\": \"SVK\", \"country\": \"Slovakia\"}, {\"code\": \"SWE\", \"country\": \"Sweden\"},\n",
    "              {\"code\": \"SWZ\", \"country\": \"Eswatini\"}, {\"code\": \"SYR\", \"country\": \"Syria\"}, {\"code\": \"TAN\", \"country\": \"Tanzania\"}, {\"code\": \"TCH\", \"country\": \"Czechoslovakia\"},\n",
    "              {\"code\": \"TGA\", \"country\": \"Tonga\"}, {\"code\": \"THA\", \"country\": \"Thailand\"}, {\"code\": \"TJK\", \"country\": \"Tajikistan\"}, {\"code\": \"TKM\", \"country\": \"Turkmenistan\"},\n",
    "              {\"code\": \"TLS\", \"country\": \"East Timor\"}, {\"code\": \"TOG\", \"country\": \"Togo\"}, {\"code\": \"TPE\", \"country\": \"Chinese Taipei\"}, {\"code\": \"TTO\", \"country\": \"Trinidad and Tobago\"},\n",
    "              {\"code\": \"TUN\", \"country\": \"Tunisia\"}, {\"code\": \"TUR\", \"country\": \"Turkey\"}, {\"code\": \"TUV\", \"country\": \"Tuvalu\"}, {\"code\": \"UAE\", \"country\": \"United Arab Emirates\"},\n",
    "              {\"code\": \"UAR\", \"country\": \"United Arab Republic\"}, {\"code\": \"UGA\", \"country\": \"Uganda\"}, {\"code\": \"UKR\", \"country\": \"Ukraine\"}, {\"code\": \"URS\", \"country\": \"Soviet Union\"},\n",
    "              {\"code\": \"URU\", \"country\": \"Uruguay\"}, {\"code\": \"USA\", \"country\": \"United States\"}, {\"code\": \"UZB\", \"country\": \"Uzbekistan\"}, {\"code\": \"VAN\", \"country\": \"Vanuatu\"},\n",
    "              {\"code\": \"VEN\", \"country\": \"Venezuela\"}, {\"code\": \"VIE\", \"country\": \"Vietnam\"}, {\"code\": \"VNM\", \"country\": \"South Vietnam\"}, {\"code\": \"VIN\", \"country\": \"Saint Vincent and the Grenadines\"},\n",
    "              {\"code\": \"WIF\", \"country\": \"West Indies Federation\"}, {\"code\": \"YAR\", \"country\": \"North Yemen\"}, {\"code\": \"YEM\", \"country\": \"Yemen\"}, {\"code\": \"YMD\", \"country\": \"South Yemen\"}, {\"code\": \"YUG\", \"country\": \"Yugoslavia\"},\n",
    "              {\"code\": \"ZAM\", \"country\": \"Zambia\"}, {\"code\": \"ZIM\", \"country\": \"Zimbabwe\"}]\n",
    "\n",
    "  for noc_code in noc_codes:\n",
    "    if noc == noc_code['code']:\n",
    "      return noc_code['country']\n",
    "\n",
    "#print(noc_code_finder('VNM'))"
   ]
  },
  {
   "cell_type": "code",
   "execution_count": 20,
   "metadata": {
    "colab": {
     "base_uri": "https://localhost:8080/"
    },
    "executionInfo": {
     "elapsed": 14701,
     "status": "ok",
     "timestamp": 1724270421804,
     "user": {
      "displayName": "Elly Johnson",
      "userId": "03359519414945055050"
     },
     "user_tz": -60
    },
    "id": "BWHI9jqK8lnO",
    "outputId": "2f531c55-fbfe-4692-cbb9-185278009c7e"
   },
   "outputs": [
    {
     "data": {
      "text/html": [
       "<div>\n",
       "<style scoped>\n",
       "    .dataframe tbody tr th:only-of-type {\n",
       "        vertical-align: middle;\n",
       "    }\n",
       "\n",
       "    .dataframe tbody tr th {\n",
       "        vertical-align: top;\n",
       "    }\n",
       "\n",
       "    .dataframe thead th {\n",
       "        text-align: right;\n",
       "    }\n",
       "</style>\n",
       "<table border=\"1\" class=\"dataframe\">\n",
       "  <thead>\n",
       "    <tr style=\"text-align: right;\">\n",
       "      <th></th>\n",
       "      <th>Name</th>\n",
       "      <th>Sex</th>\n",
       "      <th>Age</th>\n",
       "      <th>Team</th>\n",
       "      <th>Country</th>\n",
       "      <th>NOC</th>\n",
       "      <th>Games</th>\n",
       "      <th>Year</th>\n",
       "      <th>Season</th>\n",
       "      <th>City</th>\n",
       "      <th>Sport</th>\n",
       "      <th>Event</th>\n",
       "      <th>Medal</th>\n",
       "    </tr>\n",
       "  </thead>\n",
       "  <tbody>\n",
       "    <tr>\n",
       "      <th>51139</th>\n",
       "      <td>Georges Daviel de la Nzire</td>\n",
       "      <td>M</td>\n",
       "      <td>17.0</td>\n",
       "      <td>France</td>\n",
       "      <td>France</td>\n",
       "      <td>FRA</td>\n",
       "      <td>1896 Summer</td>\n",
       "      <td>1896</td>\n",
       "      <td>Summer</td>\n",
       "      <td>Athina</td>\n",
       "      <td>Athletics</td>\n",
       "      <td>Athletics Men's 800 metres</td>\n",
       "      <td>None</td>\n",
       "    </tr>\n",
       "    <tr>\n",
       "      <th>33940</th>\n",
       "      <td>Eugne Henri Callot</td>\n",
       "      <td>M</td>\n",
       "      <td>20.0</td>\n",
       "      <td>France</td>\n",
       "      <td>France</td>\n",
       "      <td>FRA</td>\n",
       "      <td>1896 Summer</td>\n",
       "      <td>1896</td>\n",
       "      <td>Summer</td>\n",
       "      <td>Athina</td>\n",
       "      <td>Fencing</td>\n",
       "      <td>Fencing Men's Foil, Individual</td>\n",
       "      <td>Silver</td>\n",
       "    </tr>\n",
       "    <tr>\n",
       "      <th>51201</th>\n",
       "      <td>Henri de Laborde</td>\n",
       "      <td>M</td>\n",
       "      <td>25.0</td>\n",
       "      <td>France</td>\n",
       "      <td>France</td>\n",
       "      <td>FRA</td>\n",
       "      <td>1896 Summer</td>\n",
       "      <td>1896</td>\n",
       "      <td>Summer</td>\n",
       "      <td>Athina</td>\n",
       "      <td>Fencing</td>\n",
       "      <td>Fencing Men's Foil, Individual</td>\n",
       "      <td>None</td>\n",
       "    </tr>\n",
       "    <tr>\n",
       "      <th>52537</th>\n",
       "      <td>J. Defert</td>\n",
       "      <td>M</td>\n",
       "      <td>25.0</td>\n",
       "      <td>France</td>\n",
       "      <td>France</td>\n",
       "      <td>FRA</td>\n",
       "      <td>1896 Summer</td>\n",
       "      <td>1896</td>\n",
       "      <td>Summer</td>\n",
       "      <td>Athina</td>\n",
       "      <td>Tennis</td>\n",
       "      <td>Tennis Men's Singles</td>\n",
       "      <td>None</td>\n",
       "    </tr>\n",
       "    <tr>\n",
       "      <th>63067</th>\n",
       "      <td>Launceston Elliot</td>\n",
       "      <td>M</td>\n",
       "      <td>21.0</td>\n",
       "      <td>Great Britain</td>\n",
       "      <td>Great Britain</td>\n",
       "      <td>GBR</td>\n",
       "      <td>1896 Summer</td>\n",
       "      <td>1896</td>\n",
       "      <td>Summer</td>\n",
       "      <td>Athina</td>\n",
       "      <td>Athletics</td>\n",
       "      <td>Athletics Men's 100 metres</td>\n",
       "      <td>None</td>\n",
       "    </tr>\n",
       "  </tbody>\n",
       "</table>\n",
       "</div>"
      ],
      "text/plain": [
       "                             Name Sex   Age           Team        Country  \\\n",
       "51139  Georges Daviel de la Nzire   M  17.0         France         France   \n",
       "33940          Eugne Henri Callot   M  20.0         France         France   \n",
       "51201            Henri de Laborde   M  25.0         France         France   \n",
       "52537                   J. Defert   M  25.0         France         France   \n",
       "63067           Launceston Elliot   M  21.0  Great Britain  Great Britain   \n",
       "\n",
       "       NOC        Games  Year  Season    City      Sport  \\\n",
       "51139  FRA  1896 Summer  1896  Summer  Athina  Athletics   \n",
       "33940  FRA  1896 Summer  1896  Summer  Athina    Fencing   \n",
       "51201  FRA  1896 Summer  1896  Summer  Athina    Fencing   \n",
       "52537  FRA  1896 Summer  1896  Summer  Athina     Tennis   \n",
       "63067  GBR  1896 Summer  1896  Summer  Athina  Athletics   \n",
       "\n",
       "                                Event   Medal  \n",
       "51139      Athletics Men's 800 metres    None  \n",
       "33940  Fencing Men's Foil, Individual  Silver  \n",
       "51201  Fencing Men's Foil, Individual    None  \n",
       "52537            Tennis Men's Singles    None  \n",
       "63067      Athletics Men's 100 metres    None  "
      ]
     },
     "execution_count": 20,
     "metadata": {},
     "output_type": "execute_result"
    }
   ],
   "source": [
    "# Finding each NOC and adding the correct country name to the 'Country' column\n",
    "# print(df_olympics_cleaned.head())\n",
    "\n",
    "for index, row in df_olympics_cleaned.iterrows():\n",
    "  df_olympics_cleaned.at[index, 'Country'] = noc_code_finder(row['NOC'])\n",
    "\n",
    "df_olympics_cleaned.head()"
   ]
  },
  {
   "cell_type": "markdown",
   "metadata": {
    "id": "m479Q1CWBfnK"
   },
   "source": [
    "<p>We don't want any duplicates in our data, so have used the following code to remove any.</p>"
   ]
  },
  {
   "cell_type": "code",
   "execution_count": 21,
   "metadata": {
    "colab": {
     "base_uri": "https://localhost:8080/"
    },
    "executionInfo": {
     "elapsed": 9,
     "status": "ok",
     "timestamp": 1724270421804,
     "user": {
      "displayName": "Elly Johnson",
      "userId": "03359519414945055050"
     },
     "user_tz": -60
    },
    "id": "O82gxxoRBgiU",
    "outputId": "a1b8bb97-68e4-4051-acdd-59149336f5af"
   },
   "outputs": [
    {
     "data": {
      "text/plain": [
       "(87682, 13)"
      ]
     },
     "execution_count": 21,
     "metadata": {},
     "output_type": "execute_result"
    }
   ],
   "source": [
    "# Checked the shape first\n",
    "df_olympics_cleaned.shape"
   ]
  },
  {
   "cell_type": "code",
   "execution_count": 22,
   "metadata": {
    "colab": {
     "base_uri": "https://localhost:8080/"
    },
    "executionInfo": {
     "elapsed": 9,
     "status": "ok",
     "timestamp": 1724269849127,
     "user": {
      "displayName": "Elly Johnson",
      "userId": "03359519414945055050"
     },
     "user_tz": -60
    },
    "id": "2bwuOa0OIl_N",
    "outputId": "6fa7f572-fc6f-45ee-e495-ba0d2faf0308"
   },
   "outputs": [
    {
     "data": {
      "text/plain": [
       "np.int64(387)"
      ]
     },
     "execution_count": 22,
     "metadata": {},
     "output_type": "execute_result"
    }
   ],
   "source": [
    "# Found out how many rows had duplicates\n",
    "df_olympics_cleaned.duplicated().sum()"
   ]
  },
  {
   "cell_type": "code",
   "execution_count": 23,
   "metadata": {
    "colab": {
     "base_uri": "https://localhost:8080/",
     "height": 424
    },
    "executionInfo": {
     "elapsed": 9,
     "status": "ok",
     "timestamp": 1724270421804,
     "user": {
      "displayName": "Elly Johnson",
      "userId": "03359519414945055050"
     },
     "user_tz": -60
    },
    "id": "5cax3If7Iusb",
    "outputId": "867e10d8-a195-459f-ea5e-d9426dcfcaf1"
   },
   "outputs": [
    {
     "data": {
      "text/html": [
       "<div>\n",
       "<style scoped>\n",
       "    .dataframe tbody tr th:only-of-type {\n",
       "        vertical-align: middle;\n",
       "    }\n",
       "\n",
       "    .dataframe tbody tr th {\n",
       "        vertical-align: top;\n",
       "    }\n",
       "\n",
       "    .dataframe thead th {\n",
       "        text-align: right;\n",
       "    }\n",
       "</style>\n",
       "<table border=\"1\" class=\"dataframe\">\n",
       "  <thead>\n",
       "    <tr style=\"text-align: right;\">\n",
       "      <th></th>\n",
       "      <th>Name</th>\n",
       "      <th>Sex</th>\n",
       "      <th>Age</th>\n",
       "      <th>Team</th>\n",
       "      <th>Country</th>\n",
       "      <th>NOC</th>\n",
       "      <th>Games</th>\n",
       "      <th>Year</th>\n",
       "      <th>Season</th>\n",
       "      <th>City</th>\n",
       "      <th>Sport</th>\n",
       "      <th>Event</th>\n",
       "      <th>Medal</th>\n",
       "    </tr>\n",
       "  </thead>\n",
       "  <tbody>\n",
       "    <tr>\n",
       "      <th>38628</th>\n",
       "      <td>Jean-Baptiste tienne August Charcot</td>\n",
       "      <td>M</td>\n",
       "      <td>23.0</td>\n",
       "      <td>Quand-Mme-2</td>\n",
       "      <td>France</td>\n",
       "      <td>FRA</td>\n",
       "      <td>1900 Summer</td>\n",
       "      <td>1900</td>\n",
       "      <td>Summer</td>\n",
       "      <td>Paris</td>\n",
       "      <td>Sailing</td>\n",
       "      <td>Sailing Mixed 0-0.5 Ton</td>\n",
       "      <td>Silver</td>\n",
       "    </tr>\n",
       "    <tr>\n",
       "      <th>38629</th>\n",
       "      <td>Jean-Baptiste tienne August Charcot</td>\n",
       "      <td>M</td>\n",
       "      <td>23.0</td>\n",
       "      <td>Quand-Mme-2</td>\n",
       "      <td>France</td>\n",
       "      <td>FRA</td>\n",
       "      <td>1900 Summer</td>\n",
       "      <td>1900</td>\n",
       "      <td>Summer</td>\n",
       "      <td>Paris</td>\n",
       "      <td>Sailing</td>\n",
       "      <td>Sailing Mixed 0-0.5 Ton</td>\n",
       "      <td>Silver</td>\n",
       "    </tr>\n",
       "    <tr>\n",
       "      <th>50230</th>\n",
       "      <td>Jacques d'Estournelles de Constant</td>\n",
       "      <td>M</td>\n",
       "      <td>25.0</td>\n",
       "      <td>Plume-Patte-5</td>\n",
       "      <td>France</td>\n",
       "      <td>FRA</td>\n",
       "      <td>1900 Summer</td>\n",
       "      <td>1900</td>\n",
       "      <td>Summer</td>\n",
       "      <td>Paris</td>\n",
       "      <td>Sailing</td>\n",
       "      <td>Sailing Mixed 0-0.5 Ton</td>\n",
       "      <td>None</td>\n",
       "    </tr>\n",
       "    <tr>\n",
       "      <th>50231</th>\n",
       "      <td>Jacques d'Estournelles de Constant</td>\n",
       "      <td>M</td>\n",
       "      <td>25.0</td>\n",
       "      <td>Plume-Patte-5</td>\n",
       "      <td>France</td>\n",
       "      <td>FRA</td>\n",
       "      <td>1900 Summer</td>\n",
       "      <td>1900</td>\n",
       "      <td>Summer</td>\n",
       "      <td>Paris</td>\n",
       "      <td>Sailing</td>\n",
       "      <td>Sailing Mixed 0-0.5 Ton</td>\n",
       "      <td>None</td>\n",
       "    </tr>\n",
       "    <tr>\n",
       "      <th>50233</th>\n",
       "      <td>Louis Etienne Jean Lonce Balluet d'Estournelle...</td>\n",
       "      <td>M</td>\n",
       "      <td>40.0</td>\n",
       "      <td>Pierre et Jean-4</td>\n",
       "      <td>France</td>\n",
       "      <td>FRA</td>\n",
       "      <td>1900 Summer</td>\n",
       "      <td>1900</td>\n",
       "      <td>Summer</td>\n",
       "      <td>Paris</td>\n",
       "      <td>Sailing</td>\n",
       "      <td>Sailing Mixed 0.5-1 Ton</td>\n",
       "      <td>None</td>\n",
       "    </tr>\n",
       "    <tr>\n",
       "      <th>...</th>\n",
       "      <td>...</td>\n",
       "      <td>...</td>\n",
       "      <td>...</td>\n",
       "      <td>...</td>\n",
       "      <td>...</td>\n",
       "      <td>...</td>\n",
       "      <td>...</td>\n",
       "      <td>...</td>\n",
       "      <td>...</td>\n",
       "      <td>...</td>\n",
       "      <td>...</td>\n",
       "      <td>...</td>\n",
       "      <td>...</td>\n",
       "    </tr>\n",
       "    <tr>\n",
       "      <th>85325</th>\n",
       "      <td>Kyle Chalmers</td>\n",
       "      <td>M</td>\n",
       "      <td>18.0</td>\n",
       "      <td>Australia</td>\n",
       "      <td>Australia</td>\n",
       "      <td>AUS</td>\n",
       "      <td>2016 Summer</td>\n",
       "      <td>2016</td>\n",
       "      <td>Summer</td>\n",
       "      <td>Rio de Janeiro</td>\n",
       "      <td>Swimming</td>\n",
       "      <td>Swimming Men's 100 metres Freestyle</td>\n",
       "      <td>Gold</td>\n",
       "    </tr>\n",
       "    <tr>\n",
       "      <th>38141</th>\n",
       "      <td>Kyle Chalmers</td>\n",
       "      <td>M</td>\n",
       "      <td>18.0</td>\n",
       "      <td>Australia</td>\n",
       "      <td>Australia</td>\n",
       "      <td>AUS</td>\n",
       "      <td>2016 Summer</td>\n",
       "      <td>2016</td>\n",
       "      <td>Summer</td>\n",
       "      <td>Rio de Janeiro</td>\n",
       "      <td>Swimming</td>\n",
       "      <td>Swimming Men's 4 x 100 metres Freestyle Relay</td>\n",
       "      <td>Bronze</td>\n",
       "    </tr>\n",
       "    <tr>\n",
       "      <th>85326</th>\n",
       "      <td>Kyle Chalmers</td>\n",
       "      <td>M</td>\n",
       "      <td>18.0</td>\n",
       "      <td>Australia</td>\n",
       "      <td>Australia</td>\n",
       "      <td>AUS</td>\n",
       "      <td>2016 Summer</td>\n",
       "      <td>2016</td>\n",
       "      <td>Summer</td>\n",
       "      <td>Rio de Janeiro</td>\n",
       "      <td>Swimming</td>\n",
       "      <td>Swimming Men's 4 x 100 metres Freestyle Relay</td>\n",
       "      <td>Bronze</td>\n",
       "    </tr>\n",
       "    <tr>\n",
       "      <th>38142</th>\n",
       "      <td>Kyle Chalmers</td>\n",
       "      <td>M</td>\n",
       "      <td>18.0</td>\n",
       "      <td>Australia</td>\n",
       "      <td>Australia</td>\n",
       "      <td>AUS</td>\n",
       "      <td>2016 Summer</td>\n",
       "      <td>2016</td>\n",
       "      <td>Summer</td>\n",
       "      <td>Rio de Janeiro</td>\n",
       "      <td>Swimming</td>\n",
       "      <td>Swimming Men's 4 x 100 metres Medley Relay</td>\n",
       "      <td>Bronze</td>\n",
       "    </tr>\n",
       "    <tr>\n",
       "      <th>85327</th>\n",
       "      <td>Kyle Chalmers</td>\n",
       "      <td>M</td>\n",
       "      <td>18.0</td>\n",
       "      <td>Australia</td>\n",
       "      <td>Australia</td>\n",
       "      <td>AUS</td>\n",
       "      <td>2016 Summer</td>\n",
       "      <td>2016</td>\n",
       "      <td>Summer</td>\n",
       "      <td>Rio de Janeiro</td>\n",
       "      <td>Swimming</td>\n",
       "      <td>Swimming Men's 4 x 100 metres Medley Relay</td>\n",
       "      <td>Bronze</td>\n",
       "    </tr>\n",
       "  </tbody>\n",
       "</table>\n",
       "<p>549 rows × 13 columns</p>\n",
       "</div>"
      ],
      "text/plain": [
       "                                                    Name Sex   Age  \\\n",
       "38628                Jean-Baptiste tienne August Charcot   M  23.0   \n",
       "38629                Jean-Baptiste tienne August Charcot   M  23.0   \n",
       "50230                 Jacques d'Estournelles de Constant   M  25.0   \n",
       "50231                 Jacques d'Estournelles de Constant   M  25.0   \n",
       "50233  Louis Etienne Jean Lonce Balluet d'Estournelle...   M  40.0   \n",
       "...                                                  ...  ..   ...   \n",
       "85325                                      Kyle Chalmers   M  18.0   \n",
       "38141                                      Kyle Chalmers   M  18.0   \n",
       "85326                                      Kyle Chalmers   M  18.0   \n",
       "38142                                      Kyle Chalmers   M  18.0   \n",
       "85327                                      Kyle Chalmers   M  18.0   \n",
       "\n",
       "                   Team    Country  NOC        Games  Year  Season  \\\n",
       "38628       Quand-Mme-2     France  FRA  1900 Summer  1900  Summer   \n",
       "38629       Quand-Mme-2     France  FRA  1900 Summer  1900  Summer   \n",
       "50230     Plume-Patte-5     France  FRA  1900 Summer  1900  Summer   \n",
       "50231     Plume-Patte-5     France  FRA  1900 Summer  1900  Summer   \n",
       "50233  Pierre et Jean-4     France  FRA  1900 Summer  1900  Summer   \n",
       "...                 ...        ...  ...          ...   ...     ...   \n",
       "85325         Australia  Australia  AUS  2016 Summer  2016  Summer   \n",
       "38141         Australia  Australia  AUS  2016 Summer  2016  Summer   \n",
       "85326         Australia  Australia  AUS  2016 Summer  2016  Summer   \n",
       "38142         Australia  Australia  AUS  2016 Summer  2016  Summer   \n",
       "85327         Australia  Australia  AUS  2016 Summer  2016  Summer   \n",
       "\n",
       "                 City     Sport  \\\n",
       "38628           Paris   Sailing   \n",
       "38629           Paris   Sailing   \n",
       "50230           Paris   Sailing   \n",
       "50231           Paris   Sailing   \n",
       "50233           Paris   Sailing   \n",
       "...               ...       ...   \n",
       "85325  Rio de Janeiro  Swimming   \n",
       "38141  Rio de Janeiro  Swimming   \n",
       "85326  Rio de Janeiro  Swimming   \n",
       "38142  Rio de Janeiro  Swimming   \n",
       "85327  Rio de Janeiro  Swimming   \n",
       "\n",
       "                                               Event   Medal  \n",
       "38628                        Sailing Mixed 0-0.5 Ton  Silver  \n",
       "38629                        Sailing Mixed 0-0.5 Ton  Silver  \n",
       "50230                        Sailing Mixed 0-0.5 Ton    None  \n",
       "50231                        Sailing Mixed 0-0.5 Ton    None  \n",
       "50233                        Sailing Mixed 0.5-1 Ton    None  \n",
       "...                                              ...     ...  \n",
       "85325            Swimming Men's 100 metres Freestyle    Gold  \n",
       "38141  Swimming Men's 4 x 100 metres Freestyle Relay  Bronze  \n",
       "85326  Swimming Men's 4 x 100 metres Freestyle Relay  Bronze  \n",
       "38142     Swimming Men's 4 x 100 metres Medley Relay  Bronze  \n",
       "85327     Swimming Men's 4 x 100 metres Medley Relay  Bronze  \n",
       "\n",
       "[549 rows x 13 columns]"
      ]
     },
     "execution_count": 23,
     "metadata": {},
     "output_type": "execute_result"
    }
   ],
   "source": [
    "# To show the duplicate data, keep=False shows the all the duplicates, including the first occurance of that data. \n",
    "# This is to check it has correctly found duplicates.\n",
    "df_olympics_cleaned.loc[df_olympics_cleaned.duplicated(keep=False), :]"
   ]
  },
  {
   "cell_type": "code",
   "execution_count": 24,
   "metadata": {
    "colab": {
     "base_uri": "https://localhost:8080/",
     "height": 424
    },
    "executionInfo": {
     "elapsed": 301,
     "status": "ok",
     "timestamp": 1724270426521,
     "user": {
      "displayName": "Elly Johnson",
      "userId": "03359519414945055050"
     },
     "user_tz": -60
    },
    "id": "O48HaT3sIz4v",
    "outputId": "7df1dea8-cb2c-410b-c024-95333e5d89f1"
   },
   "outputs": [
    {
     "data": {
      "text/html": [
       "<div>\n",
       "<style scoped>\n",
       "    .dataframe tbody tr th:only-of-type {\n",
       "        vertical-align: middle;\n",
       "    }\n",
       "\n",
       "    .dataframe tbody tr th {\n",
       "        vertical-align: top;\n",
       "    }\n",
       "\n",
       "    .dataframe thead th {\n",
       "        text-align: right;\n",
       "    }\n",
       "</style>\n",
       "<table border=\"1\" class=\"dataframe\">\n",
       "  <thead>\n",
       "    <tr style=\"text-align: right;\">\n",
       "      <th></th>\n",
       "      <th>Name</th>\n",
       "      <th>Sex</th>\n",
       "      <th>Age</th>\n",
       "      <th>Team</th>\n",
       "      <th>Country</th>\n",
       "      <th>NOC</th>\n",
       "      <th>Games</th>\n",
       "      <th>Year</th>\n",
       "      <th>Season</th>\n",
       "      <th>City</th>\n",
       "      <th>Sport</th>\n",
       "      <th>Event</th>\n",
       "      <th>Medal</th>\n",
       "    </tr>\n",
       "  </thead>\n",
       "  <tbody>\n",
       "    <tr>\n",
       "      <th>38629</th>\n",
       "      <td>Jean-Baptiste tienne August Charcot</td>\n",
       "      <td>M</td>\n",
       "      <td>23.0</td>\n",
       "      <td>Quand-Mme-2</td>\n",
       "      <td>France</td>\n",
       "      <td>FRA</td>\n",
       "      <td>1900 Summer</td>\n",
       "      <td>1900</td>\n",
       "      <td>Summer</td>\n",
       "      <td>Paris</td>\n",
       "      <td>Sailing</td>\n",
       "      <td>Sailing Mixed 0-0.5 Ton</td>\n",
       "      <td>Silver</td>\n",
       "    </tr>\n",
       "    <tr>\n",
       "      <th>50231</th>\n",
       "      <td>Jacques d'Estournelles de Constant</td>\n",
       "      <td>M</td>\n",
       "      <td>25.0</td>\n",
       "      <td>Plume-Patte-5</td>\n",
       "      <td>France</td>\n",
       "      <td>FRA</td>\n",
       "      <td>1900 Summer</td>\n",
       "      <td>1900</td>\n",
       "      <td>Summer</td>\n",
       "      <td>Paris</td>\n",
       "      <td>Sailing</td>\n",
       "      <td>Sailing Mixed 0-0.5 Ton</td>\n",
       "      <td>None</td>\n",
       "    </tr>\n",
       "    <tr>\n",
       "      <th>50234</th>\n",
       "      <td>Louis Etienne Jean Lonce Balluet d'Estournelle...</td>\n",
       "      <td>M</td>\n",
       "      <td>40.0</td>\n",
       "      <td>Pierre et Jean-4</td>\n",
       "      <td>France</td>\n",
       "      <td>FRA</td>\n",
       "      <td>1900 Summer</td>\n",
       "      <td>1900</td>\n",
       "      <td>Summer</td>\n",
       "      <td>Paris</td>\n",
       "      <td>Sailing</td>\n",
       "      <td>Sailing Mixed 0.5-1 Ton</td>\n",
       "      <td>None</td>\n",
       "    </tr>\n",
       "    <tr>\n",
       "      <th>50464</th>\n",
       "      <td>Pierre de Boulogne</td>\n",
       "      <td>M</td>\n",
       "      <td>25.0</td>\n",
       "      <td>Sidi-Fekkar-14</td>\n",
       "      <td>France</td>\n",
       "      <td>FRA</td>\n",
       "      <td>1900 Summer</td>\n",
       "      <td>1900</td>\n",
       "      <td>Summer</td>\n",
       "      <td>Paris</td>\n",
       "      <td>Sailing</td>\n",
       "      <td>Sailing Mixed 0.5-1 Ton</td>\n",
       "      <td>None</td>\n",
       "    </tr>\n",
       "    <tr>\n",
       "      <th>59996</th>\n",
       "      <td>Dupland</td>\n",
       "      <td>M</td>\n",
       "      <td>25.0</td>\n",
       "      <td>Galopin-9</td>\n",
       "      <td>France</td>\n",
       "      <td>FRA</td>\n",
       "      <td>1900 Summer</td>\n",
       "      <td>1900</td>\n",
       "      <td>Summer</td>\n",
       "      <td>Paris</td>\n",
       "      <td>Sailing</td>\n",
       "      <td>Sailing Mixed 0.5-1 Ton</td>\n",
       "      <td>None</td>\n",
       "    </tr>\n",
       "    <tr>\n",
       "      <th>...</th>\n",
       "      <td>...</td>\n",
       "      <td>...</td>\n",
       "      <td>...</td>\n",
       "      <td>...</td>\n",
       "      <td>...</td>\n",
       "      <td>...</td>\n",
       "      <td>...</td>\n",
       "      <td>...</td>\n",
       "      <td>...</td>\n",
       "      <td>...</td>\n",
       "      <td>...</td>\n",
       "      <td>...</td>\n",
       "      <td>...</td>\n",
       "    </tr>\n",
       "    <tr>\n",
       "      <th>55626</th>\n",
       "      <td>Alex Walter Diggelmann</td>\n",
       "      <td>M</td>\n",
       "      <td>45.0</td>\n",
       "      <td>Switzerland</td>\n",
       "      <td>Switzerland</td>\n",
       "      <td>SUI</td>\n",
       "      <td>1948 Summer</td>\n",
       "      <td>1948</td>\n",
       "      <td>Summer</td>\n",
       "      <td>London</td>\n",
       "      <td>Art Competitions</td>\n",
       "      <td>Art Competitions Mixed Sculpturing, Medals And...</td>\n",
       "      <td>None</td>\n",
       "    </tr>\n",
       "    <tr>\n",
       "      <th>13222</th>\n",
       "      <td>Ferdinand Balcrek</td>\n",
       "      <td>M</td>\n",
       "      <td>43.0</td>\n",
       "      <td>Czechoslovakia</td>\n",
       "      <td>Czechoslovakia</td>\n",
       "      <td>TCH</td>\n",
       "      <td>1948 Summer</td>\n",
       "      <td>1948</td>\n",
       "      <td>Summer</td>\n",
       "      <td>London</td>\n",
       "      <td>Art Competitions</td>\n",
       "      <td>Art Competitions Mixed Architecture, Unknown E...</td>\n",
       "      <td>None</td>\n",
       "    </tr>\n",
       "    <tr>\n",
       "      <th>85325</th>\n",
       "      <td>Kyle Chalmers</td>\n",
       "      <td>M</td>\n",
       "      <td>18.0</td>\n",
       "      <td>Australia</td>\n",
       "      <td>Australia</td>\n",
       "      <td>AUS</td>\n",
       "      <td>2016 Summer</td>\n",
       "      <td>2016</td>\n",
       "      <td>Summer</td>\n",
       "      <td>Rio de Janeiro</td>\n",
       "      <td>Swimming</td>\n",
       "      <td>Swimming Men's 100 metres Freestyle</td>\n",
       "      <td>Gold</td>\n",
       "    </tr>\n",
       "    <tr>\n",
       "      <th>85326</th>\n",
       "      <td>Kyle Chalmers</td>\n",
       "      <td>M</td>\n",
       "      <td>18.0</td>\n",
       "      <td>Australia</td>\n",
       "      <td>Australia</td>\n",
       "      <td>AUS</td>\n",
       "      <td>2016 Summer</td>\n",
       "      <td>2016</td>\n",
       "      <td>Summer</td>\n",
       "      <td>Rio de Janeiro</td>\n",
       "      <td>Swimming</td>\n",
       "      <td>Swimming Men's 4 x 100 metres Freestyle Relay</td>\n",
       "      <td>Bronze</td>\n",
       "    </tr>\n",
       "    <tr>\n",
       "      <th>85327</th>\n",
       "      <td>Kyle Chalmers</td>\n",
       "      <td>M</td>\n",
       "      <td>18.0</td>\n",
       "      <td>Australia</td>\n",
       "      <td>Australia</td>\n",
       "      <td>AUS</td>\n",
       "      <td>2016 Summer</td>\n",
       "      <td>2016</td>\n",
       "      <td>Summer</td>\n",
       "      <td>Rio de Janeiro</td>\n",
       "      <td>Swimming</td>\n",
       "      <td>Swimming Men's 4 x 100 metres Medley Relay</td>\n",
       "      <td>Bronze</td>\n",
       "    </tr>\n",
       "  </tbody>\n",
       "</table>\n",
       "<p>387 rows × 13 columns</p>\n",
       "</div>"
      ],
      "text/plain": [
       "                                                    Name Sex   Age  \\\n",
       "38629                Jean-Baptiste tienne August Charcot   M  23.0   \n",
       "50231                 Jacques d'Estournelles de Constant   M  25.0   \n",
       "50234  Louis Etienne Jean Lonce Balluet d'Estournelle...   M  40.0   \n",
       "50464                                 Pierre de Boulogne   M  25.0   \n",
       "59996                                            Dupland   M  25.0   \n",
       "...                                                  ...  ..   ...   \n",
       "55626                             Alex Walter Diggelmann   M  45.0   \n",
       "13222                                  Ferdinand Balcrek   M  43.0   \n",
       "85325                                      Kyle Chalmers   M  18.0   \n",
       "85326                                      Kyle Chalmers   M  18.0   \n",
       "85327                                      Kyle Chalmers   M  18.0   \n",
       "\n",
       "                   Team         Country  NOC        Games  Year  Season  \\\n",
       "38629       Quand-Mme-2          France  FRA  1900 Summer  1900  Summer   \n",
       "50231     Plume-Patte-5          France  FRA  1900 Summer  1900  Summer   \n",
       "50234  Pierre et Jean-4          France  FRA  1900 Summer  1900  Summer   \n",
       "50464    Sidi-Fekkar-14          France  FRA  1900 Summer  1900  Summer   \n",
       "59996         Galopin-9          France  FRA  1900 Summer  1900  Summer   \n",
       "...                 ...             ...  ...          ...   ...     ...   \n",
       "55626       Switzerland     Switzerland  SUI  1948 Summer  1948  Summer   \n",
       "13222    Czechoslovakia  Czechoslovakia  TCH  1948 Summer  1948  Summer   \n",
       "85325         Australia       Australia  AUS  2016 Summer  2016  Summer   \n",
       "85326         Australia       Australia  AUS  2016 Summer  2016  Summer   \n",
       "85327         Australia       Australia  AUS  2016 Summer  2016  Summer   \n",
       "\n",
       "                 City             Sport  \\\n",
       "38629           Paris           Sailing   \n",
       "50231           Paris           Sailing   \n",
       "50234           Paris           Sailing   \n",
       "50464           Paris           Sailing   \n",
       "59996           Paris           Sailing   \n",
       "...               ...               ...   \n",
       "55626          London  Art Competitions   \n",
       "13222          London  Art Competitions   \n",
       "85325  Rio de Janeiro          Swimming   \n",
       "85326  Rio de Janeiro          Swimming   \n",
       "85327  Rio de Janeiro          Swimming   \n",
       "\n",
       "                                                   Event   Medal  \n",
       "38629                            Sailing Mixed 0-0.5 Ton  Silver  \n",
       "50231                            Sailing Mixed 0-0.5 Ton    None  \n",
       "50234                            Sailing Mixed 0.5-1 Ton    None  \n",
       "50464                            Sailing Mixed 0.5-1 Ton    None  \n",
       "59996                            Sailing Mixed 0.5-1 Ton    None  \n",
       "...                                                  ...     ...  \n",
       "55626  Art Competitions Mixed Sculpturing, Medals And...    None  \n",
       "13222  Art Competitions Mixed Architecture, Unknown E...    None  \n",
       "85325                Swimming Men's 100 metres Freestyle    Gold  \n",
       "85326      Swimming Men's 4 x 100 metres Freestyle Relay  Bronze  \n",
       "85327         Swimming Men's 4 x 100 metres Medley Relay  Bronze  \n",
       "\n",
       "[387 rows x 13 columns]"
      ]
     },
     "execution_count": 24,
     "metadata": {},
     "output_type": "execute_result"
    }
   ],
   "source": [
    "# To show just the duplicates, we change keep to equal 'first'\n",
    "df_olympics_cleaned.loc[df_olympics_cleaned.duplicated(keep='first'), :]"
   ]
  },
  {
   "cell_type": "code",
   "execution_count": 25,
   "metadata": {
    "executionInfo": {
     "elapsed": 252,
     "status": "ok",
     "timestamp": 1724270430364,
     "user": {
      "displayName": "Elly Johnson",
      "userId": "03359519414945055050"
     },
     "user_tz": -60
    },
    "id": "ngpl1iVnI5SU"
   },
   "outputs": [],
   "source": [
    "# Removing the duplicates\n",
    "df_olympics_cleaned = df_olympics_cleaned.drop_duplicates(keep='first')"
   ]
  },
  {
   "cell_type": "code",
   "execution_count": 26,
   "metadata": {
    "colab": {
     "base_uri": "https://localhost:8080/"
    },
    "executionInfo": {
     "elapsed": 2,
     "status": "ok",
     "timestamp": 1724270431302,
     "user": {
      "displayName": "Elly Johnson",
      "userId": "03359519414945055050"
     },
     "user_tz": -60
    },
    "id": "dfZjjbs6LFbE",
    "outputId": "4e923cc7-1bea-4d91-c0d4-ee99b178ecbe"
   },
   "outputs": [
    {
     "data": {
      "text/plain": [
       "(87295, 13)"
      ]
     },
     "execution_count": 26,
     "metadata": {},
     "output_type": "execute_result"
    }
   ],
   "source": [
    "# Checked the shape again\n",
    "df_olympics_cleaned.shape"
   ]
  },
  {
   "cell_type": "code",
   "execution_count": 27,
   "metadata": {},
   "outputs": [
    {
     "data": {
      "text/html": [
       "<div>\n",
       "<style scoped>\n",
       "    .dataframe tbody tr th:only-of-type {\n",
       "        vertical-align: middle;\n",
       "    }\n",
       "\n",
       "    .dataframe tbody tr th {\n",
       "        vertical-align: top;\n",
       "    }\n",
       "\n",
       "    .dataframe thead th {\n",
       "        text-align: right;\n",
       "    }\n",
       "</style>\n",
       "<table border=\"1\" class=\"dataframe\">\n",
       "  <thead>\n",
       "    <tr style=\"text-align: right;\">\n",
       "      <th></th>\n",
       "      <th>Name</th>\n",
       "      <th>Sex</th>\n",
       "      <th>Age</th>\n",
       "      <th>Team</th>\n",
       "      <th>Country</th>\n",
       "      <th>NOC</th>\n",
       "      <th>Games</th>\n",
       "      <th>Year</th>\n",
       "      <th>Season</th>\n",
       "      <th>City</th>\n",
       "      <th>Sport</th>\n",
       "      <th>Event</th>\n",
       "      <th>Medal</th>\n",
       "    </tr>\n",
       "  </thead>\n",
       "  <tbody>\n",
       "  </tbody>\n",
       "</table>\n",
       "</div>"
      ],
      "text/plain": [
       "Empty DataFrame\n",
       "Columns: [Name, Sex, Age, Team, Country, NOC, Games, Year, Season, City, Sport, Event, Medal]\n",
       "Index: []"
      ]
     },
     "execution_count": 27,
     "metadata": {},
     "output_type": "execute_result"
    }
   ],
   "source": [
    "# Checked to see if there were any duplicates left\n",
    "df_olympics_cleaned.loc[df_olympics_cleaned.duplicated(keep=False), :]"
   ]
  },
  {
   "cell_type": "markdown",
   "metadata": {
    "id": "mV-uvrRefEV7"
   },
   "source": [
    "<h2>Step 5</h2>\n",
    "<ul>\n",
    "  <li>Normalise data types, e.g. strings <-> int</li>\n",
    "</ul>"
   ]
  },
  {
   "cell_type": "code",
   "execution_count": 28,
   "metadata": {
    "colab": {
     "base_uri": "https://localhost:8080/"
    },
    "executionInfo": {
     "elapsed": 267,
     "status": "ok",
     "timestamp": 1724270433747,
     "user": {
      "displayName": "Elly Johnson",
      "userId": "03359519414945055050"
     },
     "user_tz": -60
    },
    "id": "VC2Rea2pAjSE",
    "outputId": "ccb3efa7-aa37-4dd1-b64d-533fac02b53b"
   },
   "outputs": [
    {
     "name": "stdout",
     "output_type": "stream",
     "text": [
      "<class 'pandas.core.frame.DataFrame'>\n",
      "Index: 87295 entries, 51139 to 86271\n",
      "Data columns (total 13 columns):\n",
      " #   Column   Non-Null Count  Dtype  \n",
      "---  ------   --------------  -----  \n",
      " 0   Name     87295 non-null  object \n",
      " 1   Sex      87295 non-null  object \n",
      " 2   Age      87295 non-null  float64\n",
      " 3   Team     87295 non-null  object \n",
      " 4   Country  87295 non-null  object \n",
      " 5   NOC      87295 non-null  object \n",
      " 6   Games    87295 non-null  object \n",
      " 7   Year     87295 non-null  int64  \n",
      " 8   Season   87295 non-null  object \n",
      " 9   City     87295 non-null  object \n",
      " 10  Sport    87295 non-null  object \n",
      " 11  Event    87295 non-null  object \n",
      " 12  Medal    87295 non-null  object \n",
      "dtypes: float64(1), int64(1), object(11)\n",
      "memory usage: 9.3+ MB\n"
     ]
    }
   ],
   "source": [
    "df_olympics_cleaned.info()"
   ]
  },
  {
   "cell_type": "markdown",
   "metadata": {
    "id": "xfRCS7AZCq6i"
   },
   "source": [
    "<p>From this quick overview, we want to make sure that there are strings and integers where required. The only one that needs changing is 'Age'. Currently it is a float, but we would like it as an integer.</p>"
   ]
  },
  {
   "cell_type": "code",
   "execution_count": 29,
   "metadata": {
    "colab": {
     "base_uri": "https://localhost:8080/"
    },
    "executionInfo": {
     "elapsed": 251,
     "status": "ok",
     "timestamp": 1724270436604,
     "user": {
      "displayName": "Elly Johnson",
      "userId": "03359519414945055050"
     },
     "user_tz": -60
    },
    "id": "acwrq9hXEseE",
    "outputId": "dc6d60b5-892e-4f26-b0ed-5bdf8db7e85c"
   },
   "outputs": [
    {
     "name": "stdout",
     "output_type": "stream",
     "text": [
      "<class 'pandas.core.frame.DataFrame'>\n",
      "Index: 87295 entries, 51139 to 86271\n",
      "Data columns (total 13 columns):\n",
      " #   Column   Non-Null Count  Dtype \n",
      "---  ------   --------------  ----- \n",
      " 0   Name     87295 non-null  object\n",
      " 1   Sex      87295 non-null  object\n",
      " 2   Age      87295 non-null  Int64 \n",
      " 3   Team     87295 non-null  object\n",
      " 4   Country  87295 non-null  object\n",
      " 5   NOC      87295 non-null  object\n",
      " 6   Games    87295 non-null  object\n",
      " 7   Year     87295 non-null  int64 \n",
      " 8   Season   87295 non-null  object\n",
      " 9   City     87295 non-null  object\n",
      " 10  Sport    87295 non-null  object\n",
      " 11  Event    87295 non-null  object\n",
      " 12  Medal    87295 non-null  object\n",
      "dtypes: Int64(1), int64(1), object(11)\n",
      "memory usage: 9.4+ MB\n"
     ]
    }
   ],
   "source": [
    "df_olympics_cleaned['Age'] = df_olympics_cleaned['Age'].astype(\"Int64\")\n",
    "df_olympics_cleaned.info()"
   ]
  },
  {
   "cell_type": "markdown",
   "metadata": {
    "id": "a2NW1TTMfElJ"
   },
   "source": [
    "<h2>Step 6</h2>\n",
    "<ul>\n",
    "  <li>Change casing, remove whitespace</li>\n",
    "</ul>\n",
    "<p>We have noticed that the names have a mixture of cases in them. To make it uniform across all the data, we have changed it to all capitals.</p>"
   ]
  },
  {
   "cell_type": "code",
   "execution_count": 30,
   "metadata": {
    "colab": {
     "base_uri": "https://localhost:8080/"
    },
    "executionInfo": {
     "elapsed": 696,
     "status": "ok",
     "timestamp": 1724270439697,
     "user": {
      "displayName": "Elly Johnson",
      "userId": "03359519414945055050"
     },
     "user_tz": -60
    },
    "id": "ijZTwfbuGxG1",
    "outputId": "fd2722e8-9bca-4082-d719-8404227de36a"
   },
   "outputs": [
    {
     "name": "stdout",
     "output_type": "stream",
     "text": [
      "                             Name Sex  Age           Team        Country  NOC  \\\n",
      "51139  GEORGES DAVIEL DE LA NZIRE   M   17         FRANCE         FRANCE  FRA   \n",
      "33940          EUGNE HENRI CALLOT   M   20         FRANCE         FRANCE  FRA   \n",
      "51201            HENRI DE LABORDE   M   25         FRANCE         FRANCE  FRA   \n",
      "52537                   J. DEFERT   M   25         FRANCE         FRANCE  FRA   \n",
      "63067           LAUNCESTON ELLIOT   M   21  GREAT BRITAIN  GREAT BRITAIN  GBR   \n",
      "\n",
      "             Games  Year  Season    City      Sport  \\\n",
      "51139  1896 SUMMER  1896  SUMMER  ATHINA  ATHLETICS   \n",
      "33940  1896 SUMMER  1896  SUMMER  ATHINA    FENCING   \n",
      "51201  1896 SUMMER  1896  SUMMER  ATHINA    FENCING   \n",
      "52537  1896 SUMMER  1896  SUMMER  ATHINA     TENNIS   \n",
      "63067  1896 SUMMER  1896  SUMMER  ATHINA  ATHLETICS   \n",
      "\n",
      "                                Event   Medal  \n",
      "51139      ATHLETICS MEN'S 800 METRES    NONE  \n",
      "33940  FENCING MEN'S FOIL, INDIVIDUAL  SILVER  \n",
      "51201  FENCING MEN'S FOIL, INDIVIDUAL    NONE  \n",
      "52537            TENNIS MEN'S SINGLES    NONE  \n",
      "63067      ATHLETICS MEN'S 100 METRES    NONE  \n"
     ]
    }
   ],
   "source": [
    "df_olympics_cleaned['Name'] = df_olympics_cleaned['Name'].str.upper()\n",
    "df_olympics_cleaned['Sex'] = df_olympics_cleaned['Sex'].str.upper()\n",
    "df_olympics_cleaned['Team'] = df_olympics_cleaned['Team'].str.upper()\n",
    "df_olympics_cleaned['NOC'] = df_olympics_cleaned['NOC'].str.upper()\n",
    "df_olympics_cleaned['Country'] = df_olympics_cleaned['Country'].str.upper()\n",
    "df_olympics_cleaned['Games'] = df_olympics_cleaned['Games'].str.upper()\n",
    "df_olympics_cleaned['Season'] = df_olympics_cleaned['Season'].str.upper()\n",
    "df_olympics_cleaned['City'] = df_olympics_cleaned['City'].str.upper()\n",
    "df_olympics_cleaned['Sport'] = df_olympics_cleaned['Sport'].str.upper()\n",
    "df_olympics_cleaned['Event'] = df_olympics_cleaned['Event'].str.upper()\n",
    "df_olympics_cleaned['Medal'] = df_olympics_cleaned['Medal'].str.upper()\n",
    "\n",
    "print(df_olympics_cleaned.head())"
   ]
  },
  {
   "cell_type": "markdown",
   "metadata": {
    "id": "eKKNlFsuIe2k"
   },
   "source": [
    "<p>We then made sure to remove any trailing whitespace.</p>"
   ]
  },
  {
   "cell_type": "code",
   "execution_count": 31,
   "metadata": {
    "colab": {
     "base_uri": "https://localhost:8080/"
    },
    "executionInfo": {
     "elapsed": 644,
     "status": "ok",
     "timestamp": 1724270442953,
     "user": {
      "displayName": "Elly Johnson",
      "userId": "03359519414945055050"
     },
     "user_tz": -60
    },
    "id": "kIkT0m4YITfo",
    "outputId": "1cd9955f-f619-4d0d-b62c-c7f9250cb626"
   },
   "outputs": [
    {
     "name": "stdout",
     "output_type": "stream",
     "text": [
      "                             Name Sex  Age           Team        Country  NOC  \\\n",
      "51139  GEORGES DAVIEL DE LA NZIRE   M   17         FRANCE         FRANCE  FRA   \n",
      "33940          EUGNE HENRI CALLOT   M   20         FRANCE         FRANCE  FRA   \n",
      "51201            HENRI DE LABORDE   M   25         FRANCE         FRANCE  FRA   \n",
      "52537                   J. DEFERT   M   25         FRANCE         FRANCE  FRA   \n",
      "63067           LAUNCESTON ELLIOT   M   21  GREAT BRITAIN  GREAT BRITAIN  GBR   \n",
      "\n",
      "             Games  Year  Season    City      Sport  \\\n",
      "51139  1896 SUMMER  1896  SUMMER  ATHINA  ATHLETICS   \n",
      "33940  1896 SUMMER  1896  SUMMER  ATHINA    FENCING   \n",
      "51201  1896 SUMMER  1896  SUMMER  ATHINA    FENCING   \n",
      "52537  1896 SUMMER  1896  SUMMER  ATHINA     TENNIS   \n",
      "63067  1896 SUMMER  1896  SUMMER  ATHINA  ATHLETICS   \n",
      "\n",
      "                                Event   Medal  \n",
      "51139      ATHLETICS MEN'S 800 METRES    NONE  \n",
      "33940  FENCING MEN'S FOIL, INDIVIDUAL  SILVER  \n",
      "51201  FENCING MEN'S FOIL, INDIVIDUAL    NONE  \n",
      "52537            TENNIS MEN'S SINGLES    NONE  \n",
      "63067      ATHLETICS MEN'S 100 METRES    NONE  \n"
     ]
    }
   ],
   "source": [
    "df_olympics_cleaned['Name'] = df_olympics_cleaned['Name'].str.strip()\n",
    "df_olympics_cleaned['Sex'] = df_olympics_cleaned['Sex'].str.strip()\n",
    "df_olympics_cleaned['Team'] = df_olympics_cleaned['Team'].str.strip()\n",
    "df_olympics_cleaned['NOC'] = df_olympics_cleaned['NOC'].str.strip()\n",
    "df_olympics_cleaned['Country'] = df_olympics_cleaned['Country'].str.strip()\n",
    "df_olympics_cleaned['Games'] = df_olympics_cleaned['Games'].str.strip()\n",
    "df_olympics_cleaned['Season'] = df_olympics_cleaned['Season'].str.strip()\n",
    "df_olympics_cleaned['City'] = df_olympics_cleaned['City'].str.strip()\n",
    "df_olympics_cleaned['Sport'] = df_olympics_cleaned['Sport'].str.strip()\n",
    "df_olympics_cleaned['Event'] = df_olympics_cleaned['Event'].str.strip()\n",
    "df_olympics_cleaned['Medal'] = df_olympics_cleaned['Medal'].str.strip()\n",
    "\n",
    "print(df_olympics_cleaned.head())"
   ]
  },
  {
   "cell_type": "markdown",
   "metadata": {
    "id": "Oql5KtjofEr4"
   },
   "source": [
    "<h2>Step 7</h2>\n",
    "<ul>\n",
    "  <li>Rename columns if required</li>\n",
    "</ul>\n",
    "<p>After looking at the column names, we decided they represented their information in a succinct manner so left them as they were.</p>"
   ]
  },
  {
   "cell_type": "markdown",
   "metadata": {
    "id": "zAV0LGAA76yl"
   },
   "source": [
    "<p>We decided to change the name of one of the sports listed though. In some entries it is called 'Equestrian' in others it is 'Equestrianism'. To make the csv easier to analyse, we changed the 'Equestrianism' to 'Equestrian'."
   ]
  },
  {
   "cell_type": "code",
   "execution_count": 32,
   "metadata": {
    "executionInfo": {
     "elapsed": 275,
     "status": "ok",
     "timestamp": 1724270446800,
     "user": {
      "displayName": "Elly Johnson",
      "userId": "03359519414945055050"
     },
     "user_tz": -60
    },
    "id": "UPK6XwCO8dcp"
   },
   "outputs": [],
   "source": [
    "df_olympics_cleaned = df_olympics_cleaned.replace(\"EQUESTRIANISM\", \"EQUESTRIAN\")"
   ]
  },
  {
   "cell_type": "markdown",
   "metadata": {
    "id": "Dt_vG5ACfOba"
   },
   "source": [
    "<h2>Step 8</h2>\n",
    "<ul>\n",
    "  <li>Save the data as a new file</li>\n",
    "</ul>\n",
    "<p>We decided to drop the year rows here whilst saving to a new file, so that we are able to apply all the previous data cleaning to each new datafile.</p>"
   ]
  },
  {
   "cell_type": "code",
   "execution_count": 33,
   "metadata": {
    "executionInfo": {
     "elapsed": 2853,
     "status": "ok",
     "timestamp": 1724270452313,
     "user": {
      "displayName": "Elly Johnson",
      "userId": "03359519414945055050"
     },
     "user_tz": -60
    },
    "id": "XZUn-uaDdEvQ"
   },
   "outputs": [],
   "source": [
    "# Full dataframe cleaned\n",
    "df_olympics_cleaned.to_csv('../final_project/clean_olympics_dataset.csv', encoding='utf-8')"
   ]
  },
  {
   "cell_type": "code",
   "execution_count": 34,
   "metadata": {
    "executionInfo": {
     "elapsed": 401,
     "status": "ok",
     "timestamp": 1724270452713,
     "user": {
      "displayName": "Elly Johnson",
      "userId": "03359519414945055050"
     },
     "user_tz": -60
    },
    "id": "pZ-sBpp-0Ey8"
   },
   "outputs": [],
   "source": [
    "# Dataframe for pre-WW2 data\n",
    "rows_to_drop_preww2 = df_olympics_cleaned[df_olympics_cleaned['Year'] > 1940].index\n",
    "df_olympics_preww2 = df_olympics_cleaned.drop(rows_to_drop_preww2)\n",
    "\n",
    "df_olympics_preww2.head()\n",
    "\n",
    "df_olympics_preww2.to_csv('../final_project/preww2_olympics_dataset.csv', encoding='utf-8')"
   ]
  },
  {
   "cell_type": "code",
   "execution_count": 35,
   "metadata": {
    "executionInfo": {
     "elapsed": 2765,
     "status": "ok",
     "timestamp": 1724270455477,
     "user": {
      "displayName": "Elly Johnson",
      "userId": "03359519414945055050"
     },
     "user_tz": -60
    },
    "id": "M-8CqlHkRp3g"
   },
   "outputs": [],
   "source": [
    "# Dataframe for post-WW2 data\n",
    "rows_to_drop_postww2 = df_olympics_cleaned[df_olympics_cleaned['Year'] <= 1940].index\n",
    "df_olympics_postww2 = df_olympics_cleaned.drop(rows_to_drop_postww2)\n",
    "df_olympics_postww2.head()\n",
    "\n",
    "df_olympics_postww2.to_csv('../final_project/postww2_olympics_dataset.csv', encoding='utf-8')"
   ]
  },
  {
   "cell_type": "code",
   "execution_count": 36,
   "metadata": {
    "colab": {
     "base_uri": "https://localhost:8080/"
    },
    "executionInfo": {
     "elapsed": 1,
     "status": "ok",
     "timestamp": 1724270050878,
     "user": {
      "displayName": "Elly Johnson",
      "userId": "03359519414945055050"
     },
     "user_tz": -60
    },
    "id": "Gf38bwBEehEL",
    "outputId": "4788a3f9-4eff-452e-8f41-6a2a4250db76"
   },
   "outputs": [
    {
     "data": {
      "text/plain": [
       "(87295, 13)"
      ]
     },
     "execution_count": 36,
     "metadata": {},
     "output_type": "execute_result"
    }
   ],
   "source": [
    "df_olympics_cleaned.shape"
   ]
  }
 ],
 "metadata": {
  "colab": {
   "provenance": []
  },
  "kernelspec": {
   "display_name": "Python 3 (ipykernel)",
   "language": "python",
   "name": "python3"
  },
  "language_info": {
   "codemirror_mode": {
    "name": "ipython",
    "version": 3
   },
   "file_extension": ".py",
   "mimetype": "text/x-python",
   "name": "python",
   "nbconvert_exporter": "python",
   "pygments_lexer": "ipython3",
   "version": "3.12.6"
  }
 },
 "nbformat": 4,
 "nbformat_minor": 4
}
